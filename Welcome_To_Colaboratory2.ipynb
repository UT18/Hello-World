{
  "nbformat": 4,
  "nbformat_minor": 0,
  "metadata": {
    "colab": {
      "name": "Welcome To Colaboratory",
      "provenance": [],
      "collapsed_sections": [],
      "toc_visible": true,
      "include_colab_link": true
    },
    "kernelspec": {
      "display_name": "Python 3",
      "name": "python3"
    }
  },
  "cells": [
    {
      "cell_type": "markdown",
      "metadata": {
        "id": "view-in-github",
        "colab_type": "text"
      },
      "source": [
        "<a href=\"https://colab.research.google.com/github/UT18/Hello-World/blob/master/Welcome_To_Colaboratory2.ipynb\" target=\"_parent\"><img src=\"https://colab.research.google.com/assets/colab-badge.svg\" alt=\"Open In Colab\"/></a>"
      ]
    },
    {
      "cell_type": "markdown",
      "metadata": {
        "colab_type": "text",
        "id": "5fCEDCU_qrC0"
      },
      "source": [
        "<p><img alt=\"Colaboratory logo\" height=\"45px\" src=\"https://colab.research.google.com/img/colab_favicon.ico\" align=\"left\" hspace=\"10px\" vspace=\"0px\"></p>\n",
        "\n",
        "<h1>Welcome to Colaboratory!</h1>\n",
        "\n",
        "\n",
        "Colaboratory is a free Jupyter notebook environment that requires no setup and runs entirely in the cloud.\n",
        "\n",
        "With Colaboratory you can write and execute code, save and share your analyses, and access powerful computing resources, all for free from your browser."
      ]
    },
    {
      "cell_type": "code",
      "metadata": {
        "colab_type": "code",
        "id": "xitplqMNk_Hc",
        "outputId": "ed4f60d2-878d-4056-c438-352dac39a112",
        "colab": {
          "height": 420
        }
      },
      "source": [
        "#@title Introducing Colaboratory { display-mode: \"form\" }\n",
        "#@markdown This 3-minute video gives an overview of the key features of Colaboratory:\n",
        "from IPython.display import YouTubeVideo\n",
        "YouTubeVideo('inN8seMm7UI', width=600, height=400)"
      ],
      "execution_count": 0,
      "outputs": [
        {
          "output_type": "execute_result",
          "data": {
            "text/html": [
              "\n",
              "        <iframe\n",
              "            width=\"600\"\n",
              "            height=\"400\"\n",
              "            src=\"https://www.youtube.com/embed/inN8seMm7UI\"\n",
              "            frameborder=\"0\"\n",
              "            allowfullscreen\n",
              "        ></iframe>\n",
              "        "
            ],
            "text/plain": [
              "<IPython.lib.display.YouTubeVideo at 0x7f956e9dda50>"
            ]
          },
          "metadata": {
            "tags": []
          },
          "execution_count": 0
        }
      ]
    },
    {
      "cell_type": "markdown",
      "metadata": {
        "colab_type": "text",
        "id": "GJBs_flRovLc"
      },
      "source": [
        "## Getting Started\n",
        "\n",
        "The document you are reading is a  [Jupyter notebook](https://jupyter.org/), hosted in Colaboratory. It is not a static page, but an interactive environment that lets you write and execute code in Python and other languages.\n",
        "\n",
        "For example, here is a **code cell** with a short Python script that computes a value, stores it in a variable, and prints the result:"
      ]
    },
    {
      "cell_type": "code",
      "metadata": {
        "colab_type": "code",
        "id": "gJr_9dXGpJ05",
        "outputId": "5626194c-e802-4293-942d-2908885c3c1f",
        "colab": {
          "height": 35
        }
      },
      "source": [
        "seconds_in_a_day = 24 * 60 * 60\n",
        "seconds_in_a_day"
      ],
      "execution_count": 0,
      "outputs": [
        {
          "output_type": "execute_result",
          "data": {
            "text/plain": [
              "86400"
            ]
          },
          "metadata": {
            "tags": []
          },
          "execution_count": 0
        }
      ]
    },
    {
      "cell_type": "markdown",
      "metadata": {
        "colab_type": "text",
        "id": "2fhs6GZ4qFMx"
      },
      "source": [
        "To execute the code in the above cell, select it with a click and then either press the play button to the left of the code, or use the keyboard shortcut \"Command/Ctrl+Enter\".\n",
        "\n",
        "All cells modify the same global state, so variables that you define by executing a cell can be used in other cells:"
      ]
    },
    {
      "cell_type": "code",
      "metadata": {
        "colab_type": "code",
        "id": "-gE-Ez1qtyIA",
        "outputId": "8d2e4259-4682-4e19-b683-7b9087f28820",
        "colab": {
          "height": 35
        }
      },
      "source": [
        "seconds_in_a_week = 7 * seconds_in_a_day\n",
        "seconds_in_a_week"
      ],
      "execution_count": 0,
      "outputs": [
        {
          "output_type": "execute_result",
          "data": {
            "text/plain": [
              "604800"
            ]
          },
          "metadata": {
            "tags": []
          },
          "execution_count": 0
        }
      ]
    },
    {
      "cell_type": "markdown",
      "metadata": {
        "colab_type": "text",
        "id": "lSrWNr3MuFUS"
      },
      "source": [
        "For more information about working with Colaboratory notebooks, see [Overview of Colaboratory](/notebooks/basic_features_overview.ipynb).\n"
      ]
    },
    {
      "cell_type": "markdown",
      "metadata": {
        "colab_type": "text",
        "id": "-Rh3-Vt9Nev9"
      },
      "source": [
        "## More Resources\n",
        "\n",
        "Learn how to make the most of Python, Jupyter, Colaboratory, and related tools with these resources:\n",
        "\n",
        "### Working with Notebooks in Colaboratory\n",
        "- [Overview of Colaboratory](/notebooks/basic_features_overview.ipynb)\n",
        "- [Guide to Markdown](/notebooks/markdown_guide.ipynb)\n",
        "- [Importing libraries and installing dependencies](/notebooks/snippets/importing_libraries.ipynb)\n",
        "- [Saving and loading notebooks in GitHub](https://colab.research.google.com/github/googlecolab/colabtools/blob/master/notebooks/colab-github-demo.ipynb)\n",
        "- [Interactive forms](/notebooks/forms.ipynb)\n",
        "- [Interactive widgets](/notebooks/widgets.ipynb)\n",
        "- <img src=\"/img/new.png\" height=\"20px\" align=\"left\" hspace=\"4px\" alt=\"New\"></img>\n",
        " [TensorFlow 2 in Colab](/notebooks/tensorflow_version.ipynb)\n",
        "\n",
        "### Working with Data\n",
        "- [Loading data: Drive, Sheets, and Google Cloud Storage](/notebooks/io.ipynb) \n",
        "- [Charts: visualizing data](/notebooks/charts.ipynb)\n",
        "- [Getting started with BigQuery](/notebooks/bigquery.ipynb)\n",
        "\n",
        "### Machine Learning Crash Course\n",
        "These are a few of the notebooks from Google's online Machine Learning course. See the [full course website](https://developers.google.com/machine-learning/crash-course/) for more.\n",
        "- [Intro to Pandas](/notebooks/mlcc/intro_to_pandas.ipynb)\n",
        "- [Tensorflow concepts](/notebooks/mlcc/tensorflow_programming_concepts.ipynb)\n",
        "- [First steps with TensorFlow](/notebooks/mlcc/first_steps_with_tensor_flow.ipynb)\n",
        "- [Intro to neural nets](/notebooks/mlcc/intro_to_neural_nets.ipynb)\n",
        "- [Intro to sparse data and embeddings](/notebooks/mlcc/intro_to_sparse_data_and_embeddings.ipynb)\n",
        "\n",
        "### Using Accelerated Hardware\n",
        "- [TensorFlow with GPUs](/notebooks/gpu.ipynb)\n",
        "- [TensorFlow with TPUs](/notebooks/tpu.ipynb)"
      ]
    },
    {
      "cell_type": "markdown",
      "metadata": {
        "colab_type": "text",
        "id": "P-H6Lw1vyNNd"
      },
      "source": [
        "## Machine Learning Examples: Seedbank\n",
        "\n",
        "To see end-to-end examples of the interactive machine learning analyses that Colaboratory makes possible, check out the [Seedbank](https://research.google.com/seedbank/) project.\n",
        "\n",
        "A few featured examples:\n",
        "\n",
        "- [Neural Style Transfer](https://research.google.com/seedbank/seed/neural_style_transfer_with_tfkeras): Use deep learning to transfer style between images.\n",
        "- [EZ NSynth](https://research.google.com/seedbank/seed/ez_nsynth): Synthesize audio with WaveNet auto-encoders.\n",
        "- [Fashion MNIST with Keras and TPUs](https://research.google.com/seedbank/seed/fashion_mnist_with_keras_and_tpus): Classify fashion-related images with deep learning.\n",
        "- [DeepDream](https://research.google.com/seedbank/seed/deepdream): Produce DeepDream images from your own photos.\n",
        "- [Convolutional VAE](https://research.google.com/seedbank/seed/convolutional_vae): Create a generative model of handwritten digits."
      ]
    },
    {
      "cell_type": "code",
      "metadata": {
        "id": "I9uJJajvj0n9",
        "colab_type": "code",
        "colab": {
          "base_uri": "https://localhost:8080/",
          "height": 207
        },
        "outputId": "c0bed932-4f22-41bf-d879-84a5c8e1cc7c"
      },
      "source": [
        "!pip install pycrypto\n",
        "\n"
      ],
      "execution_count": 2,
      "outputs": [
        {
          "output_type": "stream",
          "text": [
            "Collecting pycrypto\n",
            "\u001b[?25l  Downloading https://files.pythonhosted.org/packages/60/db/645aa9af249f059cc3a368b118de33889219e0362141e75d4eaf6f80f163/pycrypto-2.6.1.tar.gz (446kB)\n",
            "\u001b[K     |████████████████████████████████| 450kB 9.4MB/s \n",
            "\u001b[?25hBuilding wheels for collected packages: pycrypto\n",
            "  Building wheel for pycrypto (setup.py) ... \u001b[?25l\u001b[?25hdone\n",
            "  Created wheel for pycrypto: filename=pycrypto-2.6.1-cp36-cp36m-linux_x86_64.whl size=499957 sha256=dfe0b19d226d917686d3f62341baf082ba7f5edcd574bf72fa4c93265549ab9e\n",
            "  Stored in directory: /root/.cache/pip/wheels/27/02/5e/77a69d0c16bb63c6ed32f5386f33a2809c94bd5414a2f6c196\n",
            "Successfully built pycrypto\n",
            "Installing collected packages: pycrypto\n",
            "Successfully installed pycrypto-2.6.1\n"
          ],
          "name": "stdout"
        }
      ]
    },
    {
      "cell_type": "code",
      "metadata": {
        "id": "fnHjB-7Hj5Pm",
        "colab_type": "code",
        "colab": {
          "base_uri": "https://localhost:8080/",
          "height": 68
        },
        "outputId": "71746680-aeee-4e09-890a-b37137c98fe5"
      },
      "source": [
        "\n",
        "import base64\n",
        "import hashlib\n",
        "from Crypto.Cipher import AES\n",
        "from Crypto import Random\n",
        " \n",
        "BLOCK_SIZE = 16\n",
        "pad = lambda s: s + (BLOCK_SIZE - len(s) % BLOCK_SIZE) * chr(BLOCK_SIZE - len(s) % BLOCK_SIZE)\n",
        "unpad = lambda s: s[:-ord(s[len(s) - 1:])]\n",
        " \n",
        "password = input(\"Enter encryption password: \")\n",
        " \n",
        " \n",
        "def encrypt(raw, password):\n",
        "    private_key = hashlib.sha256(password.encode(\"utf-8\")).digest()\n",
        "    raw = pad(raw)\n",
        "    iv = Random.new().read(AES.block_size)\n",
        "    cipher = AES.new(private_key, AES.MODE_CBC, iv)\n",
        "    return base64.b64encode(iv + cipher.encrypt(raw))\n",
        " \n",
        " \n",
        "def decrypt(enc, password):\n",
        "    private_key = hashlib.sha256(password.encode(\"utf-8\")).digest()\n",
        "    enc = base64.b64decode(enc)\n",
        "    iv = enc[:16]\n",
        "    cipher = AES.new(private_key, AES.MODE_CBC, iv)\n",
        "    return unpad(cipher.decrypt(enc[16:]))\n",
        " \n",
        " \n",
        "# First let us encrypt secret message\n",
        "encrypted = encrypt(\"This is a secret message\", password)\n",
        "print(encrypted)\n",
        " \n",
        "# Let us decrypt using our original password\n",
        "decrypted = decrypt(encrypted, password)\n",
        "print(bytes.decode(decrypted))"
      ],
      "execution_count": 16,
      "outputs": [
        {
          "output_type": "stream",
          "text": [
            "Enter encryption password: a\n",
            "b'PNBfzghG5mflZtDMqMTPTftrcXpSBhTXMlC73HylK/OcnQJPMy7NIHeP5oPUYuKz'\n",
            "This is a secret message\n"
          ],
          "name": "stdout"
        }
      ]
    },
    {
      "cell_type": "markdown",
      "metadata": {
        "id": "mg26DXUOtxtn",
        "colab_type": "text"
      },
      "source": [
        "# *** ENCRYPTION AND DECRYPTION***"
      ]
    },
    {
      "cell_type": "code",
      "metadata": {
        "id": "d4vAEwzfwHci",
        "colab_type": "code",
        "colab": {
          "base_uri": "https://localhost:8080/",
          "height": 88
        },
        "outputId": "aefcf174-3d7e-4196-ef01-4acabd2a26b6"
      },
      "source": [
        "\n",
        "import base64\n",
        "from Crypto.Cipher import AES\n",
        "from Crypto import Random\n",
        "from Crypto.Protocol.KDF import PBKDF2\n",
        " \n",
        "BLOCK_SIZE = 16\n",
        "pad = lambda s: s + (BLOCK_SIZE - len(s) % BLOCK_SIZE) * chr(BLOCK_SIZE - len(s) % BLOCK_SIZE)\n",
        "unpad = lambda s: s[:-ord(s[len(s) - 1:])]\n",
        " \n",
        "password = input(\"Enter encryption password: \")\n",
        " \n",
        " \n",
        "def get_private_key(password):\n",
        "    salt = b\"this is a salt\"\n",
        "    kdf = PBKDF2(password, salt, 64, 1000)\n",
        "    key = kdf[:32]\n",
        "    return key\n",
        " \n",
        " \n",
        "def encrypt(raw, password):\n",
        "    private_key = get_private_key(password)\n",
        "    raw = pad(raw)\n",
        "    iv = Random.new().read(AES.block_size)\n",
        "    cipher = AES.new(private_key, AES.MODE_CBC, iv)\n",
        "    return base64.b64encode(iv + cipher.encrypt(raw))\n",
        " \n",
        " \n",
        "def decrypt(enc, password):\n",
        "    private_key = get_private_key(password)\n",
        "    enc = base64.b64decode(enc)\n",
        "    iv = enc[:16]\n",
        "    cipher = AES.new(private_key, AES.MODE_CBC, iv)\n",
        "    return unpad(cipher.decrypt(enc[16:]))\n",
        " \n",
        " \n",
        "# First let us encrypt secret message\n",
        "encrypted = encrypt(\"0123456789012345\", password)\n",
        "print(encrypted)\n",
        " \n",
        "# Let us decrypt using our original password\n",
        "decrypted = decrypt(encrypted, password)\n",
        "print(bytes.decode(decrypted))"
      ],
      "execution_count": 4,
      "outputs": [
        {
          "output_type": "stream",
          "text": [
            "Enter encryption password: OAVrXFlR8XhazKRBQltoLatsaBhymgK80mZT4Da7Rl5a0T3KyuuY8g3imfxUS1ATBDbohjuoCGbVJmUdovJ5Mr2l1iB2yFucagTw839fTZ0xg3o9LQToJ2kunrmmFQVY9HpUMlVAC9wYjROnixu6CcK9yI8UX1BgNfMPIwAvNarZWqjS2EkCIE5ljSXihaANV0VXqh9HnnY7C4xUwePrEwLya67CoUqWNnG4JVqz5HfynOJieJMiHgUlwYALTUZO\n",
            "b'2cBVLTBHREz8jzIqk7rcuMjtPSRJnVpU3hAPkv2NUJqZ/ktYujfDCp3wgXVqmf3U'\n",
            "0123456789012345\n"
          ],
          "name": "stdout"
        }
      ]
    },
    {
      "cell_type": "code",
      "metadata": {
        "id": "NA_FkC4l7sIm",
        "colab_type": "code",
        "colab": {}
      },
      "source": [
        "'''mylines = []                             \n",
        "with open ('alice_in_wonderland.txt', 'rt') as myfile: \n",
        "    for myline in myfile:                \n",
        "        mylines.append(myline)           \n",
        "print(mylines)  \n",
        "\n",
        "'''\n",
        "\n",
        "f = open('alice_in_wonderland.txt', 'rt')\n",
        "\n",
        "data = f.read()\n",
        "array = []\n",
        "splat = data.split(\"\\n\\n\")\n",
        "for number, paragraph in enumerate(splat, 1):\n",
        "        array += [paragraph]\n",
        "test=[]\n",
        "test+=array[9:500:10]\n",
        "for x in test:\n",
        "  y=x.replace('\\n',\"\")\n",
        "  x=y\n",
        "  "
      ],
      "execution_count": 0,
      "outputs": []
    },
    {
      "cell_type": "code",
      "metadata": {
        "id": "l_fFwS7-w4w5",
        "colab_type": "code",
        "colab": {
          "base_uri": "https://localhost:8080/",
          "height": 1000
        },
        "outputId": "86fcd81c-9f42-4477-ccac-4fe2588aa98a"
      },
      "source": [
        "\n",
        "import time \n",
        "import base64\n",
        "from Crypto.Cipher import AES\n",
        "from Crypto import Random\n",
        "from Crypto.Protocol.KDF import PBKDF2\n",
        "\n",
        "start_time=time.time()\n",
        " \n",
        "BLOCK_SIZE = 16\n",
        "pad = lambda s: s + (BLOCK_SIZE - len(s) % BLOCK_SIZE) * chr(BLOCK_SIZE - len(s) % BLOCK_SIZE)\n",
        "unpad = lambda s: s[:-ord(s[len(s) - 1:])]\n",
        " \n",
        "password = input(\"Enter encryption password: \")\n",
        " \n",
        " \n",
        "def get_private_key(password):\n",
        "    salt = b\"this is a salt\"\n",
        "    kdf = PBKDF2(password, salt, 64, 1000)\n",
        "    key = kdf[:32]\n",
        "    return key\n",
        " \n",
        " \n",
        "def encrypt(raw, password):\n",
        "    private_key = get_private_key(password)\n",
        "    raw = pad(raw)\n",
        "    iv = Random.new().read(AES.block_size)\n",
        "    cipher = AES.new(private_key, AES.MODE_CBC, iv)\n",
        "    return base64.b64encode(iv + cipher.encrypt(raw))\n",
        " \n",
        " \n",
        "def decrypt(enc, password):\n",
        "    private_key = get_private_key(password)\n",
        "    enc = base64.b64decode(enc)\n",
        "    iv = enc[:16]\n",
        "    cipher = AES.new(private_key, AES.MODE_CBC, iv)\n",
        "    return unpad(cipher.decrypt(enc[16:]))\n",
        " \n",
        "encryp=[]\n",
        "d1={}\n",
        "d2={}\n",
        "# First let us encrypt secret message\n",
        "i=0\n",
        "for x in test:\n",
        "  encrypted = encrypt(x,password)\n",
        "  print(encrypted)\n",
        "  encryp.append(encrypted)\n",
        "  k=time.time()-start_time\n",
        "  d1[i]=k\n",
        "  i=i+1\n",
        "  \n",
        "# Let us decrypt using our original password\n",
        "i=0\n",
        "for x in encryp:\n",
        "  decrypted = decrypt(x, password)\n",
        "  print(bytes.decode(decrypted))\n",
        "  d2[i]=time.time()-start_time\n",
        "  i=i+1\n",
        "\n",
        "print(d1)\n",
        "print(d2)\n"
      ],
      "execution_count": 16,
      "outputs": [
        {
          "output_type": "stream",
          "text": [
            "Enter encryption password: OAVrXFlR8XhazKRBQltoLatsaBhymgK80mZT4Da7Rl5a0T3KyuuY8g3imfxUS1ATBDbohjuoCGbVJmUdovJ5Mr2l1iB2yFucagTw839fTZ0xg3o9LQToJ2kunrmmFQVY9HpUMlVAC9wYjROnixu6CcK9yI8UX1BgNfMPIwAvNarZWqjS2EkCIE5ljSXihaANV0VXqh9HnnY7C4xUwePrEwLya67CoUqWNnG4JVqz5HfynOJieJMiHgUlwYALTUZO\n",
            "b'wL6v8lXLxvRum4tafOActnNaDdbMb4+/u8HALuzKpiZcgNrdsNwRbJyZYXCSqRCfnNN/yCDTALYOLaQgagmtoIbrSr6YysxICBlcgpaM+Sx9P958qN/vyozXRMwt2Ud1l+GwqtNpSbGxcAuE2pucUwhYUP1UqcQ6fFn6A6NUiSs4FP8HWEiLbN3uMskT9O1eNhVLHxi/yQd4pIgpAcRgcDE+yyZmiAjr/NG4vnmlojrDY7Ms/LpImJfonIyB8sw+EgKhlBGkYm4VSbo1nqjZzqwV88ylrzoWQ8tmx3Rfo2r45VYvQEq3dcy8tcdfuXZh2lIt0pYUcNsL6jH++J4SM32VQf5fbNaXRWMfsd/1tCkw6TUJ1YNcSlptytOlaTPwSezDwiK9K6BYl6TOQ4If2nFERTfPSpo2Fz41eUvAvLbFKatHqcSZn/He3BU997WYHANoPEii9AFtT3ZqMbnyI3PYzHBp/0ndXipcfbAZ47+9iTSIAIx/zfuUt3AsEpOjEYgZe/XylSldU3uskSVOZwvMw1ITYYsV3six+heEEfw+O384STFqZOF01Ax8xuvyhxPHYayymrNu7KAv6NNaGAphv1eBuNs8swVP0KRZepieBZ7zQxyG8vDVv5RRqIwYUhA8kED4XRjh3vQxGla3lSPijAgX3b6nMYlzPxAQkkyvph8ta/hThAHsizsGvLL23vdXPp+UyiN2CJjPkFnbNvMZgkl6mQdpagVJFmIuJ1+2BGypfcyrIhm2VSbK1jA2TjzOE0/dpqsctq2FclftfOzuPL8NBFXU753A3TtydUNmGA7Q9ctdja47ug3bHW6V6ukTRpbfkv20NGQu+JLN3j2LsTBaM3HODP6F4ItxA2OVGuXu9Sq0FbtOmpWO9Sh4HDtUG8ehBpbnvTNkvGBFxmfVvVCxskChW/DfdgL2qCi6Km5z85EaiRNXTiOB6H9OGRrM85hZKnr9WrEy42aq8UzW+HSfb4jFilvktjB4NzDQOGfksq8S3x9fpPpT1E72'\n",
            "b'Sg4tZq8xwGcdcjQd4Nrjhauk0GGX2dVL3WzORSUv7Dmu2OxaTSCcPzlPv+OcffRvjJ7MJgPc1MU5gD8rRVOT+bWkdf3Io/MfRdriCc7cgQWu65M42zLHxA98Ng3zOGp+ptqcviJzwc5rQEPkOeNh66Zz8WUWFGFEbO2CqmrS2bWdyaLBznyR25/mrk+CYDmtQlqeb2HBHpXq/GhqcTSVe6bK7gABMIpc2QRHOu/gfSGeWBuoYiTpMRfNIFy5R/YtLh22ZaXxnSzZrHN62ulhsRTCTVh0xTQTIibhFrZlJsx+vB4kd1W5X3NHie1KKsZ7OKNRjSEgVdxAE4bGIIEmzuMlWv6gjz5aW7ZdwOOnXLy/N7hLN7vm7cghhSwuva51xLBTr0wrXzbMjMrlul/otPdP7wi8rqIam2dtVPwJLTnoacqDZ6B7fAbGXuLEG3hTPKaxuDtSLFho4zSHZy6X1eCOhVIfNs44kQVEAw7cpO1ovx9afVI/GzzvJ0zx8qbhB8QzZK3LRhxRTt0hGDZYoH1brBZm3NfdWFi4LzJFUAyzNM+elXHnbqDC5hVJRMHhnKzUJHV9432oGBWb6sgvssuXTKjKSphXNtwcRuvrXOGgEfdCEpu6jidoQ6sUxaWF/nEYDthLMeJxg6iSMHd0j9I9QkBWItyEf6nuZEt29XGp66mDlD/4qJ9hwh4YSg+HZ6bltqBfmKwgj4zNX5q/KIgGyEjkEhkdibb6di3V3rRw0u3T877GJc4YpeEZyPCcOJGuBlRQsBXtaQ1f3RhFBg=='\n",
            "b'PYDaKd3wSFnxa+SmSCYIxO31L0adAenCfVt65x/CbmXc0zkninSlSFFMPG9vN/gVbwe+4NxQA6modvaUBcQvJkFeRJUiUAUCSJ4zSlHss9deOLHBV+6NIdhA09TI8S49YDxgzznSkVJRO0GYuTRw06GpkGhG2xc3UzDjMX031n8PuANvM+wQ/bfDuZrp8NKwaYvOYEQUB4QSLiUKPLfE843ISQK9Rq0OwHSz2KkyQxmrESqodqUr/Lo/MaH8h1wdzhHllRCaomJHbWT+T+w71YIJ961y62f/uDavbViHJ5DUctbbGpxq1fIWYSJapbxl1x7p7POXjsr88DK2ra2x4gyrzyQ4fryfoHQ2VgjGty2EMFvHino5+fniQU0zPUO1jCyU4Gj9pztXte0N9tpmjmEGsLwldYgQE90vvVCjvXLyJYZWA9TzJwS8x05rPyaCdqlY+2ZVO5mUbMoE2Nim2orZN3fi+QsqYvNVbey8zotcWE+nZL2Z+TGcGYPF9wn9gwzz3ga8Yc9phDxl3JTuB4e/cwRnHZtFgACvS7fU3tE2ExzKnSkhokUFybqkxvuuSptuWNhTkaiEH266WnrtXALwRCSDAaFwvRVXJV9QQUJT6Z2a/UiWKlJSRxlWIU17pXtX5TM82LQ++KJ9tgeSsXbxjYyZfjh1A4yIM/A8jaYzao4XCGSq4V7n9x3xGeQFGgv0uB158IibGqY8LJ5zHA=='\n",
            "b'cquLDP5h0HWZwv6oZxXxeid/5fnV2UZ20BIjYDqD5Fms0swCEBX5qmDCwPQJElKq8F+NUvlEO5sV3kUqNVyQVQ=='\n",
            "b'35a7iBi4wH+FvpHuAo49ccw21SNSea7kITVLS4FKVK/FIsMct+IQX+0SeUinLJsOhNrvDzHXY5T8wYQL2tkICPvXBAMxfmbMsGsIrYLSMBkuFy7JOwsE3PzQn8IlgHdmJ9BzOw1AmSYHTdynBJKtTnooEg3DvXEWXvEvreWSJL5k/OeXMfv7KtWEhugfcjU8zwzMrekiloKfyz936FHfJyndWYw2CnbsYTns8EQpvG0vzMqsPvorWxY82SaBbGokCYC7FYE7hx6OKBNlVNlog+Ul4QEJHwvxQVa98Tk8hHe0dQgQLe91IXrYsYle3C3xSUeiv4Qa77rfillBnht2iCp4lDXsDJqkJRM+4e4/oeBrfbYzkDfwEyepSBL+1qVHD+mHiU4yCxBaqT4+GVKEcPm0g9wjh8LZtpY8A3XrBkWJlBRJcyA3iFNw9qtqTH8rNguFu6cVrNJUqNXKQ3RYSVUSpIeby/whitInHwWs7/cf0Bt3wo4X9lWnCc9IwGAU858PD+nKoy8kBaUrqpbmZsxA7+VCoMv02M+3Rz3IROD6taR5nmpKMsPteBdeMRqOjaM6JqX5w7ZjW/AJA7hEM9bNFTYLee9diCca07ymvOm4GwHyYPcX3DxipPKXNM7Fa2NaWiVcTLNas+Kpk+1TXqBH5NZdzpoNseWONMmUeY0iSJEGaSCAJyDzNGWpwog5dOVRCN6ppo/bVxJQyJqik/TGVRYjEvIcag7hBMlnfTSGONSVfY7KNOjGBFy2XTtVoq6MiN9LYE9pRByOWiim23TYlqdC4iFBmE08XczMPZSQpFQ4tm74EHfmgzqD5FkG3B0fNnY2taFYs9totAx+olM1ju6QMZQDvRC7tgOFpvqZGkjKni115zZ2pK3NTp3ay10SZcMwJ+noaj80WhIoeekWICoDq8KWn3DVqMSw5hlI/iYZZkZIkqCIyuGPHvP1Q7Q1h6014f4xN2jgX5EANDtHvQaxviOrTnyDd+JE76+GaCvV2iuNUTJmUvk6VuhUZQxiJbY8D+ibnM3X0+F8J/tHuFkCDHnqK/d47BzqRurYIgx3Eobwlza40njWMlSu3o98miecUOt3YwqToaq48jtM8zWipQyFPMusnt1muy3g4Cs2ulwSaauMaGb6CH+ZtvFA+RNTEIOj3H8JQtwimoQs1y9IYH3ARox2XHOugbHXvBI6CwFWyDUWXK6NX+sLU9dUJwED+IlDY0Q8w7JfOIwlvkZ16PSOBcYtAJ1AcRJTZnGXNxwzrioLJsh+fAEqc/22AUpf5D72n1qEVc8isg=='\n",
            "b'pZ/sQDQQBRBxWwx8LzNi4dntbuSMYS9suU8sQpfgvPlv4nL4scmHd6IaDOFqokmBPOkGLWXFKIk/wCLDmvtQo4J/ymlmgyxfZumybqBM8HD3xs/VqlU/UqLzGRLLoLFF9LOwINUCCUpsmGBZ9/MR2MqYTiOkvOTmKM63Pzm77E4Wyx0M36Bd+w0zP3OFU6JFz95jstfwERZm7WhaF6hzgGhXQSyiWAvYpGjTUaDTlYGGAzq/GWc+qNbXCDEZH2DiKmFMDGhHIxGtYGV4aibKSeE2SmK3WOuzUFql2pQSm/NT9OReS+AsXdT52W8eHEASGsOOjJpE1G4gkhhwc0Gi9YmxZLngDuMuhY5HeIvB/hgZaWGJBCOxMvYaB6NQOMyl/k+AHLhfW1g7kEQ7YBOBNSHbQw8iH2I5RL4u5b2KwJhgAjEbDIHV+XfbiuZ6TKIguxry7O6ruHKTENmfCc1Be9qCj3HSb3xTY1Kqo+f4EGqEfSdF7Pzflm1eRxzIXXaVLilvXKw9WBmBP1aOrTt8cviaSRvscRPovWiuU2GhG27U6CpWIBdVTFm92sMYdplpVX2GbBJhJ1nqrZlFI9QaRLNSiPrOgwhDuQVDfw737P2A61pCFBe1JGNxj/hh9Fh46QV+ax6I6NObaz6u4p5d449Wombq+4n2Yf7blTmqGK9gZp3GgWCEgsOYPlXLRnh2ZBdV3n9RVYcgDhI4FZmTvzSyzUmLjoTI2BeBZNn5Utg2n5y0t+YZJ6koWddsDwJUHBoJlXIYuUC8sDDa5Vln0Q=='\n",
            "b'inGmpIJ88+4gklxMvb7ZAvurZqixrhM3KgK9AxO8N09V0+gdJWWBGb2W1N6QXWqHPKN9tN07qsB0gwq7BzOef7nypBGuCp6UmuDIfKnbfAGxiffK8AhXtQmMfy6kyLm0H1aJTtPBYs05coIyH8j5PmvNt/3rWwFN1wa11HlmRaG1RydAIrU+/CswzmH/I5wktfVfvKpn9F2SnjH8s5gQ130U+l09oXQDoppUg2Kc8LlPP41b1TQ6ErSRAkFIpDOzyLC6iRcMC7bhBrjSlOobUHfLVOTjZxPCXMbgX2bEV+s='\n",
            "b'sQ0w1XV6zvFnl23yvwIrxM2DRB8d+oMiX7KJh1vQDY2LkpUAUShztSLXxhP0a4NErHtg01WR/OMhulN/N79XHg/ZhiizxuSGVl2WkY2sAKEMxgEguu3OO9aSmq08lQVnsPo/z+3w3Xy9dF6zEqKmw4JaP9E0xWRFR7+Cf6L80cx9EetM+/b0ofCzZg/lX6aQPLVHbYWvXBgcMMO7blYWydVhA8arAiUEhNQ7gHPE5p8='\n",
            "b'/kjenpdIblax8MpmOzjvDWkWcvXqB1TCnafSvr8tS1DsNqVWauzVRIboIKSEUQLZkPq8CY2xfAD890DuPTNLojy8+OC95sz31YmjB8osg5rwQ8Z4bz5g3RPh1N3zCggg'\n",
            "b'4qsmy8iwN+12CSWXneSQrc5kbEjkZkhOuhibHrHamIowVh/U/ty4Ngdg/MKUeXOjZpAPhaBKcwW7cYZym4D/Vw41FOUdh22E7uiOFj9CX1c27qO9AzooeD3B6Hx79x88sBYUH1awvvEGETPgb9br+Qp6NyCW02aXVu22I6chCnF2iBKcPqqSIpFYezagEJXHId+eXVIE+TWtaWVX1sJYpXr5469gBTfdXKZ3THELNF7R4EhT0XAq44wnizh/IAmB'\n",
            "b'Ixr+/XLM9awrWu1WXVhDEtjn3P86Qmk4sy48oh6xjN4vY1cR5bZPvL0Zk8J9BECvMCe2tuB1rNGDpe4vD/lF2Q=='\n",
            "b'D3goojCiGi3rm4lu3STqttLlGtq25nCgVgjXjBhJMRzWy22qaEHU5zArzZrF99jpBYUB+M/xW64NNVSnw75kz+kX6xKzzMi/5u58hnxOJZ0='\n",
            "b'RF4kxa/s6i2j3ua42pb3+q6cmYtfdaFGLx0e5832L/1z06ASRQnwJs7lsS+2alISvQePf/zvOeR/9UipGs63atHdmtGypcMKA2XxG76E3os75CZad2vecqdzXovKRXRhhkgcZKCawhpaFr9j12KAbZ45SSZ46DPeShKXggnOaam02w6hGS/SY8w7UC8KeLLJWwbs2a9rOAi8Y+Ht/077xAcsy2IrZd4NuigM8WUTZ6s1ass0ZSI5wi+R0ZPmo0IzpvTU0g5dAroWaLWcjSVlBwUK1XV5hxHUl68yi3I2NSk='\n",
            "b'EBRu1A6fqTECppxLAbHdUnWAzUCCcsZbRtrrIeUImUSawAXKBaUSuejkAZjb29xUf67p6VjSMzMMPMrht4u1fyVvJMYSWaM/YyWF57/wf+cI1vX+FmQdlcR7twWjnS03w0VZH0d6OiXbgykHRx46oQ=='\n",
            "b'p/aZtprNq+7uxEtXEXdrb29TVQoQq/qK8t0TooMV1LTwi9VEZF3zqhgdTmEYjwemtTSI9jwsE8OvxwJghC/+7uINxIGLW4o4TePonHEFWuilj/s7OoCB1+zXVVxOek2hiQtUkZi7d7AhYqLMPnatrS5PLKGqwSHCKkn2zCZOUgN7I8OloSFbtzoMNtGbdXkJC2KM1ud+UH/pia2FlBwJ2w=='\n",
            "b's2z7UA6PrLDJH3buDwpGL/7ZSaHmMMahVyq9Me5Be0JtKsOMd6R4wSEMmbDzrYNdHqB/mgwHx1oHuCrAVzSwQVLxVnPIevX9Dcy0fy+aGIBgjUKETLaOeeK0g6vaTmmPo7HVuwhJCp8Llmk99qBzkhv1JRQQbtI4OS6Ada9PukWlHLZj36PL8Hekjtcvr8lukwPyx1/hvwt/Jdkes2Lvoz/nTHwWCnF+OpcPDzgagiDwqtAl5d2OdciPjP/3nqLoej6cZSAyn/OIYMJ0+57VmwHHLB9jfX34sihyhtOltZj+mrYzujwBn8aMpo4OXmv6tnJI29fPfolFST35BII7hOlhmnEKiino9uWITMcIfmdAryIvcAJln+N3uxksLPXhkzMd9nAasQ53VYQeV5yasVCko5FaoSdXbNnHvObSQ108MltfbqSsmh5KJPtkb/w6kC1xzDr9jrOOdfYrfYKYlh+/KjGtcHocJyyeStWXl6dXSPFkLEMXXaO0ABKFHahRN7xtUsDuM0o795BzHgOAwUTc+QbhJAXd2ScwoihjK0yqznU1oMPXDDnmdpORKQ329ycDEmVDOKYui95DRk7UPDV42cYueB8eTfgpEphh3pY='\n",
            "b'5+LMlq/VplQ37a4aKJcK0zUo71KbiqrC0W3vt6eg/nuXRPzPj3jLXMRgvQAmHCS9o3CEdErP0kSbjb8W7UPUtEjQwmvlDRHRaWa0Q6ikN+Sld9ecjH9bKh0p9q+FiYPdfd+oQUklCi1BG62jqnwUaw=='\n",
            "b'uwzhDLmiSmQ+vnfQLKb/N4uFLzWCXLbklj3DKhhUV1kkptbS6xT1GHkosT4mxZWJqZMqnbQzv5W980ORtm4c+saBw/bB0Op8SHGTi2hQcdwP0ahqxzwTfXSPiPF6qHgwtypvLMqCfiZ8y4X23KCNtoFZWH7EsfYPBv31K9CIzAVZiYFKTfmLwMRz2oPOHwju1+qZD5twGFf8XbL/IBnXlsIUTfJSTJD/2eMrhrBIlYEOs6PFSaJVdStzkBMwqeOW'\n",
            "b'ya0B1emi2sZin+qK3ilblNsG6iw0j4mkGQdqM0ZJZFQNUuVXWA+U/DB0kMFMWnPNgrwQLThw5e0mEyCv1ECX/Hp8ohHAwi0yO4IgqWLf2g7T/icZREHI72C2dVM1LvcZ'\n",
            "b'qyhwIkNatEB69fDvjRMUlzKaCyJ4lZfHxCN0JXxKBLQ+lTnTRZ0OuZQ6K3mu8CYIlGnAZvS0eo86JeH2SKJYQGX2TA7qsnRmfEVEPtQacnM='\n",
            "b'ZdhQvdaiYclA4U8kBpeABBSblGKAoaMpTp7DqNVC5ozl2Z66B24O8WBabV02tIa2p/XVyfPdU1TshzFjOs/bV0XvtJ5MbOFbffIbo6V7JZ52mK90M6/04+g3Z7LOBKOKcj0oSmehBxKxgp5AZANfMyJq/WCVITszvT2bZ7eylzp8oPzrCf5gVtM91KMQwZHWTxBmdfm7X+lnNqtDFnc68w=='\n",
            "b'mgIVERvUdzjwHxBxd4EiblowMBzu2IL0iXslZG2rCWk5Pc9nFg8MJrAMSvl/OKVAZ1Iakf55i9sKaSgxJ3LCT0ZAGfGW+XZAFDMZMbx9vHo='\n",
            "b'I5oFfUIuaGeMOMUGwRSWO5omQ5jfrEPxiSGiwEzxmVwkFrDGJ++F6NU3vyRhZ+dYEO5AO0hJOg3L2xyt2WuFzihqmmDftCsmsgkeCqF3Le0m2oQD7U5UeNQlfVnDsRSSewNokU457Ih+utmbIGO/CPUV5w+sW3WVs1oBHABpxe6JXqBgUTOJh1BjnfZYwClC'\n",
            "b'ZBPlmqsQzkeRubxGtgqf+8DUyoJyvq4MvOpHusRvE7ONVU9uR/FzSCN7ZFobZJ6lRlYCM7Fnx2mVRfyQlJT9et5aqQEdQY1ZHmdv35DoX/8t7ATGeLrinjJtJ28zn9TPdVCCpy/3p6oisHqkPFJtOTVtIerGf/4Yt/gtlcOffguJgho/fk+1uG1hBFa7kXPk9/TZiAmMBRwy5++pDj3x8elQz0UHh8CXpETpiSZf6KbY1qP1mclzSpt6Vr1ZVKAN95m7lfCW7Mq0l+rqfkT+ApUiiYTIXz4qYYf4L9PQFg4wvxlgM4W2f94ALLnKLF4WDOwVCgRbd38qDEFBtp8DPk+5UK555uo025XJYpMPghkzHxrItt8jxUKr17Pf/5Pr'\n",
            "b'TZR2Oeb5OdNMdFS6uyLKizxoZV1E3W+okz1FuOmJJp//uMNQYHkvasptx4Hf6NGN+M+E+67HA6c563XkpT95thFRdo+kdbjpGS7rsRCRXZ+delxCTzDXpVWVWXoyFlK7osTfeB7MqYzLw5PMLnd9ttxNtKnUmISCqZAi6GT5MXhOwIjP4qry7YwOHYAbB1SPChxopaGiT6NJBKoEZ4z2tw7dmGQE9umLlE4wiqDVRaetDvEyjuMLzQjDQ+nclZgYtHiXPInnGwgtZ6Ron1i5rHGxBkHkeukD0mpesxLLh+alQrO4QNCzTbnQ9cdul925pndqGqHJRmRu/jdENwzVjCxY13lxbBFVjA79bdywWzo='\n",
            "b'48geFgUX0xpETSU5QcyzFK0SPQ9j376YJw7uvTdRpHUwpFmV0JFB/9AMpr5L66uGnLDamT5wigt1v8y/y9hdtBgs9/k5RreNZZgPOcbVQIbWfmUEB1KKRS/SDQBv90YDQF15GJHTnC1U3zmVSz6KzTRuqFs6YxzWFvCp1vPuufqnqbPk4ZQyUZ5B0r3vq+5x+cSwjrDcVOM8t/OxEVceFOoLywwSRSpQ7GRlSm9vwcDbaMSb2BUvpfi+2bWhL+4HkH6lNNOt8gDVs5RMnpMbfw=='\n",
            "b'5ddiDdm8U/631/CjxLV1J2fe04/IGhCssJKgcrJ4HDpbIq2pu3gS4SgOtmXfFAq4Ar8eEtd2QRP0mi1jbsQUZL8JE8WvQABj49mrC0rnIuDtrDkhOKbgIC4L4ohB89yx0GWGjoYW/z6CXqLwAxlntnZ1L34a9Ft90cqJ86btdzzXi0STAgCkKkb5cr1diLeXfnkq1uapJdzFCUwtAdgXxvGOqDIbWEhTB12A2GCUagMKBY6U7wTmoDE6WhSVvS9psUggLKV5qGwmaQC70yTAfYC0DTvIqGbD6dyeGWHK/T8='\n",
            "b'lVUFTejfxeX4mauAkz4mPY0/TqOXLtYP8Z6bfEfPPOqNmTjoluEW1A/66V2rBCy/Zbf5JiN04gw3oBNOFCygvWGbsflfZt4Kk59cQ1dGo50ypeYnZrrPcff6OEno0G84apiwftbkrgULII9S+3w6biw8CFCNpyj8z5idIdLVZt2EcM3aK3tjJClK9AYvkn8sr3lVxxArR7Rvj1fj5M1pUfsJ+fUPIHUqWl7gOU0FBzkvqiav8Q0xUMdhZOyQruCui+T3dRp2EXNppH12IsiF3zFpL37wE+ynkDF5N8MRjYnrX/VKtcUKnEQSxC0Obu3iI0G0f7clb87VkOfxYk4dGA=='\n",
            "b'TSlhxieTnXOABZIGQNso7X2MmwabKN1cZK8yFc/bULrI+aGfjmH0mjD99hflSGmKpWxeUYmwE4W1+yUNXhocGgyw8WqBi4lbKb2FlBl5UeSVgSYWI60JTOjkypy8ol+vsFHENo6nsRG1xYiuo9YNyoxUynMBR4u8s4eDKv3FDa9i0DLZpOpsnCJbaIIm8y1dlZs0EBOcoXNXSntNvgDugVznFONYtNU8Iv88nz/e5U8YZD4P0N8gGIaEbJb5PSNaOoxPUaOzEnDe5ApywUaIgsWVp9K4nERLCbeDuaIkwrUTOcPgZhgH9F/G03q073ko+BdVzewXP7TLMYtnoT1DO+Ev+U7YxCjTJ8ePXBs9PL+nTLUqTgFvcGbr6VPISk+GnuXmp7+gdZOzKdIfWCcbGg=='\n",
            "b'Bk/REmeRytu96jvS3fCCvDg+Qd1YH/bVfDwu2ecNcRrtmb7o7mVFhOeZiQ9SSSSuqFBrsqxD3PLFSYoayIbIRA=='\n",
            "b'dKrMLxznl/bbzUBejxTi7gRpVfmL1Fbf251RAeSzeZTIZjGqtdwQUS/nMxQbjyg9wth6zmnk6zMmx7iqQyNwDOUP5GCMyFdn4MEV+JtEpeaM6mqtBtQIMZ8va2ZvILgCn3bTeNis7o7x3JzJ8JlQPZ26zFR9IpSe3OJlMlXso1U='\n",
            "b'tk34uyOccRamu7Qa5W9uC8QSfzIbFFKihEmvp4bSjbM8XxHks1uT3vMHjt0elhJlVTRKoth0w9W6d6tzgoAXD4+HDtSZ3n/q7ZhTQg1W65UePgTacyRVaZnQU3u6ekBHM+yigxKk8dtiZJhmP8OC5A=='\n",
            "b'MkI7lkVWCj05fzAMMSfgVCFe5CTT/cJ/SV3yx8OsulwqJXZJwPG9stfSWkkvrujne7VFNh+lPa1Nuh7bJj40nA=='\n",
            "b'dWOX+updYJytLlF1iZKNx1JLrN/zjrtu4wM54eOmGU08kA3P37GehAQQ5dTCex+fM74Yyp0ogt9CD7fH9jTUwrX6JD2gG4uEiUidLpUg/Qve4IDEslPqDY3Mv0Z75Dh13/7GcCOCy/Vg5ZVzfFGh9Ih4Gwht/SV/K4rVRGPxcgw='\n",
            "b'3sIpPdS7+mV6PB7kpuMG1fZowfxm/zNDc7dAvzUgyftNriFLJirfR5W+BAqpYzD/DSuqKFLUABcyEnPaQab96jtfe+y2uW4COWbZPA7oykvVq5vLMIQhYk2nJdGRsnMFsFy/7NDn3GLDFIdvvVmeAvH06dP1HG38FZwoarmeBDBm2YxqEfgLytbEsVGmGq/b9tPPNJnBhPUAwSqNcfHjogQ1sG6yNzfD6Si34n3Xkdde1lQBRlejp+PYmfdBQ3GYSOCghGtbibyDfcJaShK1nj3wTDaHsN8eEZg3ypbR0zcUYeiiME/+rOX7lDPas+G1NL05Z+4mLxT43uKlBTcvrw=='\n",
            "b'FyCrnL2CHEYbXjnagVg8RvovIy6bBR5OkEU0guAVJdpXNvDjnuXRnY4lb+3I2cxj1QqFMzdgG5rKPyiMYb1lB6Niuc3qE8vhZkevBtNL3ho='\n",
            "b'Ucp32qy0JGX+i37GPSx36eilRjvzPduNK+s79FWjCWAeQZUP+NV+okJMj0EsnO4VgVzGsYgm8K/b7m/kPQ5QaA=='\n",
            "b'5ykf1i2C5Uqy3VxkZYO98MHlh3ymsbnINLOiKIxFVdZJhZn3vd6Ib/BoHt2AfHgN'\n",
            "b'2v77EARytbyFvOwTyybNwkmus6ZDIOjcc3AH90LAU/87kS/eu9C/HgPoVVMUkh5RHCsTB5QXQSx1tfjhAIX7gs0LZ4XxDKza44txez+5ViA='\n",
            "b'94ECZeF2TX7YZUd7gfJ8EovOcIBAdquJinjUdgq0w1md3IcVA/DEQMAT6J2WKiEyaiRIS5Wcj7LYi/yTCKcTHmVvBMgnINbUyMfkwm6q7jHb8ADnCdjYnlu5WAQ2RzosqjoRiwEsCV8J8e/MrmjXWKBSPXYBKxG4cvfbyOXbnObGGg8GktVQpiIUoFqZy3p+ZUPWNAZpudh7paMhunM6PLeukQS/fZ0XhqGm9UlNyI05hzdVQikSc1B7+ZAdOMXKed0fMirFY6ltGWQjV9w8eg=='\n",
            "b'1peSUay48AFCzccAVX5G+eXkAD7BlONPr0HAnqDMb9nms5CoXfC/lF2eMWJQ22/tNeDqQ+fAyngrymB1NiEBl4916HJPU1uqhS4xxyZQAGTE45a7FZeWUScQBIUavjqe'\n",
            "b'ho5oyD5e7+NgXTXUYd0xbjxI4kyyJ0VZgjsE6VP9GcdG2sliCZZZn/Zj4cm3bYvg/rn1FKmrRQ3GHjP7zc5Mr+sepbREJqPmOYWeS7fWhLZF1KrWLJmT7NiRSYAiteB8GRIaz7G4IqKXe3AcfYbu6hDCzHl6xJkQJ9cVXeDJPQb5VTiRkc/jS29Wbe4wIvVuSwqsBPtht0OcI6JdHIEhKCBJkoor69H2yNC8cgctrCQ='\n",
            "b'9bKi5eYmLUZVjIoUF/I+VKYrM9U9Jc1yUZ2zyNo+A3UATVBR+6cZe4VDCA8xKu61zK8cQQJ0JEGRtEdn+t9N4lb3F6rh8rzFIuj1CYT7DdyVO7YmV7Ym5USqhreP2hAO'\n",
            "b'ippF+wsM7Pb/C3t50KaNsFK9vga06SdeWnxgFFHpEMA8YB4t4KAUNfwDNibO+jcoAav0fvrC7BCU1ZkWtIeSFprB6UfIj1qk+9iIbAWiW9xVCTadsSQPKgGCTR4mb12p'\n",
            "b'Y4EsKKwqvejvxx9kH7nXX0tpjW7j8aGRCqsTH4WVmMJVf2dsEksd3qFWPoiYR+lMwQzknAKpiuRJFBE79vWNwqqNLDJvDEfPYk8RXm90j55OGnTG4gGZt0ai7mBN1d7zxf/8oiijo0G0J2oIRiV5DrH3pcNUhknGQMggiCaT2A1qopQi3j7QUGxJAwM7UrjbNLNrThgE5k4xwPt0QGSKNZJDSO6S6QWhaxEbEqRJ+vsAw86CD5bexQXx/zUjjFuS5twlbvQyhohCjNo4ktQeZSunF64+LsYwSXxV5Mvy/AHn8PmDL/ai7ooC7JNDVAaZFtL+MK53uvq/kxpCLgtOZxfXICTseiurUzj2IHOwSVxhRl9FlBZ1DfweAL6PzMkKE3lhiueZJ41X9GisGxDhBjmwgam8nDvX00tKgYkUWlLjGpkIIYWEi+MVF3YWPulBvXSOrcYJ+3/ZdiDCAXTSMOJcCdkLIX3xv9ospo5XdgeAIADEu+9exoI9b5inII+iUjXDVTA6uPAMHRTxf57KXQ=='\n",
            "b'5Oi8yJFGYrHYLtFdKdRS1KehH0NyI0uy6sJ1jbTM6KinZD6rZ430TgiWaebs4NOqyJ30QYyv8H6TiJhFvjwD1W905aEk+icoGU6P8IlBQXE='\n",
            "b'HA1sAyiFtm/JOfqe4bJTxhmxvPnmVVTdRUrLXAZFfKlVmQoOXI8ATgLCFUhC+J/U'\n",
            "b'TqP09B1s+zE/fHtAycLVL6g3qbXMwHtwJzWbWvFBS3XPTGCpuDjTILSTQccpuTHgcUnil3CQzGkYBu/xjzdNw75uc625wN1NfnpdDQIo21xk4yVWEqSTjtEcWBDiebBOzYSjK3q6Kd58r/0buDfSdl5jThduwzCA4ZL78biageEpnVXlIqI0C+LZJJ6M6L7r8xkeONunvWuCjdDg05IcHXolJ4/vdRn72p0qrvLaMxfa88rTg/ds4tqLQeorHWEArOf96MgoViPr9SZDBA7qVCwth2VN0hsNevsKZ4Qaz1Yq+gOytL4yBSMuAmZSxofeNu3L+Jr6DLNRRfSxJRtuxeV05MZ1syBHmTJ0/5Ah+qK1S/fenCMKkg8nhTG2G3Z9pGNLRMdLX0Ucdfavqpf3pil/OnzP2HY7nWwR9Z0EBewQqMFW/dvKOaDVhDigJ27Ju5xDwIPBpovjeQn2YM6n3ufYMZJXTMKZm59FZgbzO2pwIUp+tPHp7EywaVkEMPQxCU27U9bVeNMbjC37nnoqeWmC69QNC+vf0OEOS9NvrdNNY+aT2JZFCvkxwn5yBl6ROlPOgn2LetxMyTJpV4vrUMaJIfq22uYF/mNoMxm2yXnVrnWLboGszBgIVNNjQA8ZWL8wewI4bYKqC2X44bNeYFXKwIyLvnlWhS8+8cAXZGUBWk5it9QOhF+pGpMPtpIHMyv0jS+wEplgcCj23lyP4b/8y6P4CpuCRE7BNwmEVd1szfB8hXPGwDPCPZLqddWObEm0B2gRAr74KZOtK9cryh9Czmne3RnaPFi2Zh1qy8/oedxst8+dXkxbldNIWcpNu2VFRo9FScUARrlaAHUzjjqvuYdBwG92WUQnDOvBRCNjDZYizYSr/TrPpeW2pRMH7CdommnRlEOPIiYuzSRCEtRA5E6KfmiIoCNxfqxEI0SDbryHIZrg+W4sNZ2icABqrxJf+svldzwWxSQ5uHXrCApPNSx2xuFE/ZiU2uS2BPUoKKHoBJKb6FbzwnBIKqppIQY7VhJNrlr4kYz5OEiqgXWKKccIwDcnG9TmiAZlptSXONAi0aFwPDWNqcioAfN7Z7BQrOdsUdbqH6imKNGC3q8f83I92ICOHmpRQNXNF0qwgYNDbj1GofAd2Dg2j6B2Psq2XqEp+89crKJ0zHcbn5W8XGSzCeKu61me+D2yf9mPIziIBWk0L7TUgsQis5jhFYiE9V8XDQ234DRDpWnqHg=='\n",
            "b'U9DIL9ciSrjlSSVe+DSzHRnvJJYBEuB34zyUWwI2a6F3Ab9DTl9QX6ywhAh7+qnWt7r6a2lynYYx8l4+bf1To1sE+/CCWki1EnIDkaJTe2ICkZVlSLMcjy12lXN8soC8ms+NM5ZsFia1fLNcFUdyUBoAF30UtG5OVhHycQPX/5hLolbMNADZSapU+XmLT8Z0'\n",
            "b'fltG5pmucBuaWLB8fHsxkUucmekdd+/GnNjASBej4wGQnpZ0b4oRyQyPQHdXsZDsx1wxoBFNwr+HZuxk+IXFCV/1s6jtTKi4ywFMoTEFwa/yjU3gr/Z84HAKk1zHL8aJGxM/oaLh/sQXiVPkUNH1QTN/YVWfBdCAR9YCXfPWQMUrk8/oaj/m9b/skgXc8ABAbNYtT7fsgC/3Wcure39/FIeRiQn3asFdmiMyRmJwF11SfeqZIDbeG2jF3X2XNPTKg6u4mzV7bPU+WavkFbNzuhtTjAH8YVc7F4DyNIJ49xkuQ3IykqOoBwxqt5pChbRDmzruRMblqq6DJ2ol5qV2UNisY0fZ3lyVIMPHF2m1JP5jviyM87Hw7uArcwh6ATdlXAqIDj36TcTuavSSYdLwNICgLpm+iJGsxJ8StqDoCdSflpHIxCYj1btyyDbHnNPpmaNCpKyivWZ/DxWQGUlRvw=='\n",
            "  There was nothing so VERY remarkable in that; nor did Alice\n",
            "think it so VERY much out of the way to hear the Rabbit say to\n",
            "itself, `Oh dear!  Oh dear!  I shall be late!'  (when she thought\n",
            "it over afterwards, it occurred to her that she ought to have\n",
            "wondered at this, but at the time it all seemed quite natural);\n",
            "but when the Rabbit actually TOOK A WATCH OUT OF ITS WAISTCOAT-\n",
            "POCKET, and looked at it, and then hurried on, Alice started to\n",
            "her feet, for it flashed across her mind that she had never\n",
            "before seen a rabbit with either a waistcoat-pocket, or a watch to\n",
            "take out of it, and burning with curiosity, she ran across the\n",
            "field after it, and fortunately was just in time to see it pop\n",
            "down a large rabbit-hole under the hedge.\n",
            "  Suddenly she came upon a little three-legged table, all made of\n",
            "solid glass; there was nothing on it except a tiny golden key,\n",
            "and Alice's first thought was that it might belong to one of the\n",
            "doors of the hall; but, alas! either the locks were too large, or\n",
            "the key was too small, but at any rate it would not open any of\n",
            "them.  However, on the second time round, she came upon a low\n",
            "curtain she had not noticed before, and behind it was a little\n",
            "door about fifteen inches high:  she tried the little golden key\n",
            "in the lock, and to her great delight it fitted!\n",
            "  After a while, finding that nothing more happened, she decided\n",
            "on going into the garden at once; but, alas for poor Alice!\n",
            "when she got to the door, she found she had forgotten the\n",
            "little golden key, and when she went back to the table for it,\n",
            "she found she could not possibly reach it:  she could see it\n",
            "quite plainly through the glass, and she tried her best to climb\n",
            "up one of the legs of the table, but it was too slippery;\n",
            "and when she had tired herself out with trying,\n",
            "the poor little thing sat down and cried.\n",
            "                        The Pool of Tears\n",
            "  `I'm sure I'm not Ada,' she said, `for her hair goes in such\n",
            "long ringlets, and mine doesn't go in ringlets at all; and I'm\n",
            "sure I can't be Mabel, for I know all sorts of things, and she,\n",
            "oh! she knows such a very little!  Besides, SHE'S she, and I'm I,\n",
            "and--oh dear, how puzzling it all is!  I'll try if I know all the\n",
            "things I used to know.  Let me see:  four times five is twelve,\n",
            "and four times six is thirteen, and four times seven is--oh dear!\n",
            "I shall never get to twenty at that rate!  However, the\n",
            "Multiplication Table doesn't signify:  let's try Geography.\n",
            "London is the capital of Paris, and Paris is the capital of Rome,\n",
            "and Rome--no, THAT'S all wrong, I'm certain!  I must have been\n",
            "changed for Mabel!  I'll try and say \"How doth the little--\"'\n",
            "and she crossed her hands on her lap as if she were saying lessons,\n",
            "and began to repeat it, but her voice sounded hoarse and\n",
            "strange, and the words did not come the same as they used to do:--\n",
            "  `Perhaps it doesn't understand English,' thought Alice; `I\n",
            "daresay it's a French mouse, come over with William the\n",
            "Conqueror.'  (For, with all her knowledge of history, Alice had\n",
            "no very clear notion how long ago anything had happened.)  So she\n",
            "began again:  `Ou est ma chatte?' which was the first sentence in\n",
            "her French lesson-book.  The Mouse gave a sudden leap out of the\n",
            "water, and seemed to quiver all over with fright.  `Oh, I beg\n",
            "your pardon!' cried Alice hastily, afraid that she had hurt the\n",
            "poor animal's feelings.  `I quite forgot you didn't like cats.'\n",
            "\n",
            "  They were indeed a queer-looking party that assembled on the\n",
            "bank--the birds with draggled feathers, the animals with their\n",
            "fur clinging close to them, and all dripping wet, cross, and\n",
            "uncomfortable.\n",
            "  `I know what \"it\" means well enough, when I find a thing,' said\n",
            "the Duck:  `it's generally a frog or a worm.  The question is,\n",
            "what did the archbishop find?'\n",
            "  `But who is to give the prizes?' quite a chorus of voices\n",
            "asked.\n",
            "  `You promised to tell me your history, you know,' said Alice,\n",
            "`and why it is you hate--C and D,' she added in a whisper, half\n",
            "afraid that it would be offended again.\n",
            "  The Mouse only growled in reply.\n",
            "                The Rabbit Sends in a Little Bill\n",
            "  `But then,' thought Alice, `shall I NEVER get any older than I\n",
            "am now?  That'll be a comfort, one way--never to be an old woman--\n",
            "but then--always to have lessons to learn!  Oh, I shouldn't like THAT!'\n",
            "  `An arm, you goose!   Who ever saw one that size?  Why, it\n",
            "fills the whole window!'\n",
            "  `We must burn the house down!' said the Rabbit's voice; and\n",
            "Alice called out as loud as she could, `If you do.  I'll set\n",
            "Dinah at you!'\n",
            "  `And yet what a dear little puppy it was!' said Alice, as she\n",
            "leant against a buttercup to rest herself, and fanned herself\n",
            "with one of the leaves:  `I should have liked teaching it tricks\n",
            "very much, if--if I'd only been the right size to do it!  Oh\n",
            "dear!  I'd nearly forgotten that I've got to grow up again!  Let\n",
            "me see--how IS it to be managed?  I suppose I ought to eat or\n",
            "drink something or other; but the great question is, what?'\n",
            "  `I can't explain MYSELF, I'm afraid, sir' said Alice, `because\n",
            "I'm not myself, you see.'\n",
            "  Here was another puzzling question; and as Alice could not\n",
            "think of any good reason, and as the Caterpillar seemed to be in\n",
            "a VERY unpleasant state of mind, she turned away.\n",
            "  `Repeat, \"YOU ARE OLD, FATHER WILLIAM,\"' said the Caterpillar.\n",
            "\n",
            "  `That is not said right,' said the Caterpillar.\n",
            "  `It is a very good height indeed!' said the Caterpillar\n",
            "angrily, rearing itself upright as it spoke (it was exactly three\n",
            "inches high).\n",
            "         *       *       *       *       *       *\n",
            "  Alice was more and more puzzled, but she thought there was no\n",
            "use in saying anything more till the Pigeon had finished.\n",
            "  This was such a new idea to Alice, that she was quite silent\n",
            "for a minute or two, which gave the Pigeon the opportunity of\n",
            "adding, `You're looking for eggs, I know THAT well enough; and\n",
            "what does it matter to me whether you're a little girl or a\n",
            "serpent?'\n",
            "  Alice laughed so much at this, that she had to run back into\n",
            "the wood for fear of their hearing her; and when she next peeped\n",
            "out the Fish-Footman was gone, and the other was sitting on the\n",
            "ground near the door, staring stupidly up into the sky.\n",
            "  It was, no doubt:  only Alice did not like to be told so.\n",
            "`It's really dreadful,' she muttered to herself, `the way all the\n",
            "creatures argue.  It's enough to drive one crazy!'\n",
            "  She said the last word with such sudden violence that Alice\n",
            "quite jumped; but she saw in another moment that it was addressed\n",
            "to the baby, and not to her, so she took courage, and went on\n",
            "again:--\n",
            "  Alice glanced rather anxiously at the cook, to see if she meant\n",
            "to take the hint; but the cook was busily stirring the soup, and\n",
            "seemed not to be listening, so she went on again:  `Twenty-four\n",
            "hours, I THINK; or is it twelve?  I--'\n",
            "  `Here! you may nurse it a bit, if you like!' the Duchess said\n",
            "to Alice, flinging the baby at her as she spoke.  `I must go and\n",
            "get ready to play croquet with the Queen,' and she hurried out of\n",
            "the room.  The cook threw a frying-pan after her as she went out,\n",
            "but it just missed her.\n",
            "  `I don't much care where--' said Alice.\n",
            "  Alice didn't think that proved it at all; however, she went on\n",
            "`And how do you know that you're mad?'\n",
            "  `It turned into a pig,' Alice quietly said, just as if it had\n",
            "come back in a natural way.\n",
            "                         A Mad Tea-Party\n",
            "  `You should learn not to make personal remarks,' Alice said\n",
            "with some severity; `it's very rude.'\n",
            "  `It IS the same thing with you,' said the Hatter, and here the\n",
            "conversation dropped, and the party sat silent for a minute,\n",
            "while Alice thought over all she could remember about ravens and\n",
            "writing-desks, which wasn't much.\n",
            "  `Which is just the case with MINE,' said the Hatter.\n",
            "  `I don't know what you mean,' said Alice.\n",
            "You know the song, perhaps?'\n",
            "  `Then you keep moving round, I suppose?' said Alice.\n",
            "  `Once upon a time there were three little sisters,' the\n",
            "Dormouse began in a great hurry; `and their names were Elsie,\n",
            "Lacie, and Tillie; and they lived at the bottom of a well--'\n",
            "  `Who's making personal remarks now?' the Hatter asked\n",
            "triumphantly.\n",
            "  Alice did not wish to offend the Dormouse again, so she began\n",
            "very cautiously:  `But I don't understand.  Where did they draw\n",
            "the treacle from?'\n",
            "  `Really, now you ask me,' said Alice, very much confused, `I\n",
            "don't think--'\n",
            "  `I couldn't help it,' said Five, in a sulky tone; `Seven jogged\n",
            "my elbow.'\n",
            "  Alice was rather doubtful whether she ought not to lie down on\n",
            "her face like the three gardeners, but she could not remember\n",
            "ever having heard of such a rule at processions; `and besides,\n",
            "what would be the use of a procession,' thought she, `if people\n",
            "had all to lie down upon their faces, so that they couldn't see it?'\n",
            "So she stood still where she was, and waited.\n",
            "  The Knave did so, very carefully, with one foot.\n",
            "  `Yes!' shouted Alice.\n",
            "  The chief difficulty Alice found at first was in managing her\n",
            "flamingo:  she succeeded in getting its body tucked away,\n",
            "comfortably enough, under her arm, with its legs hanging down,\n",
            "but generally, just as she had got its neck nicely straightened\n",
            "out, and was going to give the hedgehog a blow with its head, it\n",
            "WOULD twist itself round and look up in her face, with such a\n",
            "puzzled expression that she could not help bursting out laughing:\n",
            "and when she had got its head down, and was going to begin again,\n",
            "it was very provoking to find that the hedgehog had unrolled\n",
            "itself, and was in the act of crawling away:  besides all this,\n",
            "there was generally a ridge or furrow in the way wherever she\n",
            "wanted to send the hedgehog to, and, as the doubled-up soldiers\n",
            "were always getting up and walking off to other parts of the\n",
            "ground, Alice soon came to the conclusion that it was a very\n",
            "difficult game indeed.\n",
            "  `Who ARE you talking to?' said the King, going up to Alice, and\n",
            "looking at the Cat's head with great curiosity.\n",
            "  The hedgehog was engaged in a fight with another hedgehog,\n",
            "which seemed to Alice an excellent opportunity for croqueting one\n",
            "of them with the other:  the only difficulty was, that her\n",
            "flamingo was gone across to the other side of the garden, where\n",
            "Alice could see it trying in a helpless sort of way to fly up\n",
            "into a tree.\n",
            "{0: 7.234140157699585, 1: 7.286874771118164, 2: 7.338373184204102, 3: 7.3880250453948975, 4: 7.437974452972412, 5: 7.491982460021973, 6: 7.541390657424927, 7: 7.59148645401001, 8: 7.6408140659332275, 9: 7.69343638420105, 10: 7.742526531219482, 11: 7.792421817779541, 12: 7.841611862182617, 13: 7.891120195388794, 14: 7.94302225112915, 15: 7.992553234100342, 16: 8.040776252746582, 17: 8.089636325836182, 18: 8.138166189193726, 19: 8.190062046051025, 20: 8.238336324691772, 21: 8.286908149719238, 22: 8.335176706314087, 23: 8.384386777877808, 24: 8.436041593551636, 25: 8.485172271728516, 26: 8.536298513412476, 27: 8.588151931762695, 28: 8.638608455657959, 29: 8.691304922103882, 30: 8.739970922470093, 31: 8.78907060623169, 32: 8.837508201599121, 33: 8.8864586353302, 34: 8.93825387954712, 35: 8.986864566802979, 36: 9.03506064414978, 37: 9.084189176559448, 38: 9.133897542953491, 39: 9.187463998794556, 40: 9.236373662948608, 41: 9.285698652267456, 42: 9.334097623825073, 43: 9.383899211883545, 44: 9.435969591140747, 45: 9.484703540802002, 46: 9.533507347106934, 47: 9.58254098892212, 48: 9.632163763046265, 49: 9.685984134674072}\n",
            "{0: 9.734858274459839, 1: 9.783620357513428, 2: 9.83248782157898, 3: 9.881757974624634, 4: 9.933658123016357, 5: 9.982317447662354, 6: 10.031118869781494, 7: 10.080181360244751, 8: 10.128475904464722, 9: 10.18008804321289, 10: 10.229116439819336, 11: 10.278123378753662, 12: 10.327447891235352, 13: 10.377172708511353, 14: 10.428803443908691, 15: 10.478636026382446, 16: 10.52749252319336, 17: 10.578280925750732, 18: 10.627234697341919, 19: 10.679446458816528, 20: 10.739665746688843, 21: 10.793328523635864, 22: 10.84192442893982, 23: 10.891242504119873, 24: 10.942412853240967, 25: 10.996691703796387, 26: 11.046323776245117, 27: 11.098413467407227, 28: 11.150063753128052, 29: 11.198944568634033, 30: 11.247826337814331, 31: 11.296400785446167, 32: 11.34800410270691, 33: 11.396560668945312, 34: 11.445271015167236, 35: 11.494024515151978, 36: 11.542911052703857, 37: 11.595072746276855, 38: 11.644014835357666, 39: 11.692615747451782, 40: 11.741127252578735, 41: 11.789875745773315, 42: 11.841055393218994, 43: 11.8896963596344, 44: 11.938649654388428, 45: 11.987974882125854, 46: 12.03722095489502, 47: 12.090273380279541, 48: 12.138899564743042, 49: 12.189521074295044}\n"
          ],
          "name": "stdout"
        }
      ]
    },
    {
      "cell_type": "code",
      "metadata": {
        "id": "-ZiiMWW_5xmQ",
        "colab_type": "code",
        "colab": {
          "base_uri": "https://localhost:8080/",
          "height": 71
        },
        "outputId": "4788e7f4-cb33-4fb8-9f3e-c1f455b7d08a"
      },
      "source": [
        "import random\n",
        "import string\n",
        "\n",
        "def randomStringDigits(stringLength=6):\n",
        "    \"\"\"Generate a random string of letters and digits \"\"\"\n",
        "    lettersAndDigits = string.ascii_letters + string.digits\n",
        "    return ''.join(random.choice(lettersAndDigits) for i in range(stringLength))\n",
        "\n",
        "print (\"Generating a Random String including letters and digits\")\n",
        "print (\"First Random String is  \", randomStringDigits(256))"
      ],
      "execution_count": 19,
      "outputs": [
        {
          "output_type": "stream",
          "text": [
            "Generating a Random String including letters and digits\n",
            "First Random String is   OAVrXFlR8XhazKRBQltoLatsaBhymgK80mZT4Da7Rl5a0T3KyuuY8g3imfxUS1ATBDbohjuoCGbVJmUdovJ5Mr2l1iB2yFucagTw839fTZ0xg3o9LQToJ2kunrmmFQVY9HpUMlVAC9wYjROnixu6CcK9yI8UX1BgNfMPIwAvNarZWqjS2EkCIE5ljSXihaANV0VXqh9HnnY7C4xUwePrEwLya67CoUqWNnG4JVqz5HfynOJieJMiHgUlwYALTUZO\n"
          ],
          "name": "stdout"
        }
      ]
    }
  ]
}