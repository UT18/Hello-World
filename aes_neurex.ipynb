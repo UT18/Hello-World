{
  "nbformat": 4,
  "nbformat_minor": 0,
  "metadata": {
    "colab": {
      "name": "Welcome To Colaboratory",
      "provenance": [],
      "collapsed_sections": [],
      "toc_visible": true,
      "include_colab_link": true
    },
    "kernelspec": {
      "display_name": "Python 3",
      "name": "python3"
    }
  },
  "cells": [
    {
      "cell_type": "markdown",
      "metadata": {
        "id": "view-in-github",
        "colab_type": "text"
      },
      "source": [
        "<a href=\"https://colab.research.google.com/github/UT18/Hello-World/blob/master/aes_neurex.ipynb\" target=\"_parent\"><img src=\"https://colab.research.google.com/assets/colab-badge.svg\" alt=\"Open In Colab\"/></a>"
      ]
    },
    {
      "cell_type": "markdown",
      "metadata": {
        "colab_type": "text",
        "id": "5fCEDCU_qrC0"
      },
      "source": [
        "<p><img alt=\"Colaboratory logo\" height=\"45px\" src=\"https://colab.research.google.com/img/colab_favicon.ico\" align=\"left\" hspace=\"10px\" vspace=\"0px\"></p>\n",
        "\n",
        "<h1>Welcome to Colaboratory!</h1>\n",
        "\n",
        "\n",
        "Colaboratory is a free Jupyter notebook environment that requires no setup and runs entirely in the cloud.\n",
        "\n",
        "With Colaboratory you can write and execute code, save and share your analyses, and access powerful computing resources, all for free from your browser."
      ]
    },
    {
      "cell_type": "code",
      "metadata": {
        "colab_type": "code",
        "id": "xitplqMNk_Hc",
        "outputId": "ed4f60d2-878d-4056-c438-352dac39a112",
        "colab": {
          "height": 420
        }
      },
      "source": [
        "#@title Introducing Colaboratory { display-mode: \"form\" }\n",
        "#@markdown This 3-minute video gives an overview of the key features of Colaboratory:\n",
        "from IPython.display import YouTubeVideo\n",
        "YouTubeVideo('inN8seMm7UI', width=600, height=400)"
      ],
      "execution_count": 0,
      "outputs": [
        {
          "output_type": "execute_result",
          "data": {
            "text/html": [
              "\n",
              "        <iframe\n",
              "            width=\"600\"\n",
              "            height=\"400\"\n",
              "            src=\"https://www.youtube.com/embed/inN8seMm7UI\"\n",
              "            frameborder=\"0\"\n",
              "            allowfullscreen\n",
              "        ></iframe>\n",
              "        "
            ],
            "text/plain": [
              "<IPython.lib.display.YouTubeVideo at 0x7f956e9dda50>"
            ]
          },
          "metadata": {
            "tags": []
          },
          "execution_count": 0
        }
      ]
    },
    {
      "cell_type": "markdown",
      "metadata": {
        "colab_type": "text",
        "id": "GJBs_flRovLc"
      },
      "source": [
        "## Getting Started\n",
        "\n",
        "The document you are reading is a  [Jupyter notebook](https://jupyter.org/), hosted in Colaboratory. It is not a static page, but an interactive environment that lets you write and execute code in Python and other languages.\n",
        "\n",
        "For example, here is a **code cell** with a short Python script that computes a value, stores it in a variable, and prints the result:"
      ]
    },
    {
      "cell_type": "code",
      "metadata": {
        "colab_type": "code",
        "id": "gJr_9dXGpJ05",
        "outputId": "5626194c-e802-4293-942d-2908885c3c1f",
        "colab": {
          "height": 35
        }
      },
      "source": [
        "seconds_in_a_day = 24 * 60 * 60\n",
        "seconds_in_a_day"
      ],
      "execution_count": 0,
      "outputs": [
        {
          "output_type": "execute_result",
          "data": {
            "text/plain": [
              "86400"
            ]
          },
          "metadata": {
            "tags": []
          },
          "execution_count": 0
        }
      ]
    },
    {
      "cell_type": "markdown",
      "metadata": {
        "colab_type": "text",
        "id": "2fhs6GZ4qFMx"
      },
      "source": [
        "To execute the code in the above cell, select it with a click and then either press the play button to the left of the code, or use the keyboard shortcut \"Command/Ctrl+Enter\".\n",
        "\n",
        "All cells modify the same global state, so variables that you define by executing a cell can be used in other cells:"
      ]
    },
    {
      "cell_type": "code",
      "metadata": {
        "colab_type": "code",
        "id": "-gE-Ez1qtyIA",
        "outputId": "8d2e4259-4682-4e19-b683-7b9087f28820",
        "colab": {
          "height": 35
        }
      },
      "source": [
        "seconds_in_a_week = 7 * seconds_in_a_day\n",
        "seconds_in_a_week"
      ],
      "execution_count": 0,
      "outputs": [
        {
          "output_type": "execute_result",
          "data": {
            "text/plain": [
              "604800"
            ]
          },
          "metadata": {
            "tags": []
          },
          "execution_count": 0
        }
      ]
    },
    {
      "cell_type": "markdown",
      "metadata": {
        "colab_type": "text",
        "id": "lSrWNr3MuFUS"
      },
      "source": [
        "For more information about working with Colaboratory notebooks, see [Overview of Colaboratory](/notebooks/basic_features_overview.ipynb).\n"
      ]
    },
    {
      "cell_type": "markdown",
      "metadata": {
        "colab_type": "text",
        "id": "-Rh3-Vt9Nev9"
      },
      "source": [
        "## More Resources\n",
        "\n",
        "Learn how to make the most of Python, Jupyter, Colaboratory, and related tools with these resources:\n",
        "\n",
        "### Working with Notebooks in Colaboratory\n",
        "- [Overview of Colaboratory](/notebooks/basic_features_overview.ipynb)\n",
        "- [Guide to Markdown](/notebooks/markdown_guide.ipynb)\n",
        "- [Importing libraries and installing dependencies](/notebooks/snippets/importing_libraries.ipynb)\n",
        "- [Saving and loading notebooks in GitHub](https://colab.research.google.com/github/googlecolab/colabtools/blob/master/notebooks/colab-github-demo.ipynb)\n",
        "- [Interactive forms](/notebooks/forms.ipynb)\n",
        "- [Interactive widgets](/notebooks/widgets.ipynb)\n",
        "- <img src=\"/img/new.png\" height=\"20px\" align=\"left\" hspace=\"4px\" alt=\"New\"></img>\n",
        " [TensorFlow 2 in Colab](/notebooks/tensorflow_version.ipynb)\n",
        "\n",
        "### Working with Data\n",
        "- [Loading data: Drive, Sheets, and Google Cloud Storage](/notebooks/io.ipynb) \n",
        "- [Charts: visualizing data](/notebooks/charts.ipynb)\n",
        "- [Getting started with BigQuery](/notebooks/bigquery.ipynb)\n",
        "\n",
        "### Machine Learning Crash Course\n",
        "These are a few of the notebooks from Google's online Machine Learning course. See the [full course website](https://developers.google.com/machine-learning/crash-course/) for more.\n",
        "- [Intro to Pandas](/notebooks/mlcc/intro_to_pandas.ipynb)\n",
        "- [Tensorflow concepts](/notebooks/mlcc/tensorflow_programming_concepts.ipynb)\n",
        "- [First steps with TensorFlow](/notebooks/mlcc/first_steps_with_tensor_flow.ipynb)\n",
        "- [Intro to neural nets](/notebooks/mlcc/intro_to_neural_nets.ipynb)\n",
        "- [Intro to sparse data and embeddings](/notebooks/mlcc/intro_to_sparse_data_and_embeddings.ipynb)\n",
        "\n",
        "### Using Accelerated Hardware\n",
        "- [TensorFlow with GPUs](/notebooks/gpu.ipynb)\n",
        "- [TensorFlow with TPUs](/notebooks/tpu.ipynb)"
      ]
    },
    {
      "cell_type": "markdown",
      "metadata": {
        "colab_type": "text",
        "id": "P-H6Lw1vyNNd"
      },
      "source": [
        "## Machine Learning Examples: Seedbank\n",
        "\n",
        "To see end-to-end examples of the interactive machine learning analyses that Colaboratory makes possible, check out the [Seedbank](https://research.google.com/seedbank/) project.\n",
        "\n",
        "A few featured examples:\n",
        "\n",
        "- [Neural Style Transfer](https://research.google.com/seedbank/seed/neural_style_transfer_with_tfkeras): Use deep learning to transfer style between images.\n",
        "- [EZ NSynth](https://research.google.com/seedbank/seed/ez_nsynth): Synthesize audio with WaveNet auto-encoders.\n",
        "- [Fashion MNIST with Keras and TPUs](https://research.google.com/seedbank/seed/fashion_mnist_with_keras_and_tpus): Classify fashion-related images with deep learning.\n",
        "- [DeepDream](https://research.google.com/seedbank/seed/deepdream): Produce DeepDream images from your own photos.\n",
        "- [Convolutional VAE](https://research.google.com/seedbank/seed/convolutional_vae): Create a generative model of handwritten digits."
      ]
    },
    {
      "cell_type": "code",
      "metadata": {
        "id": "I9uJJajvj0n9",
        "colab_type": "code",
        "colab": {
          "base_uri": "https://localhost:8080/",
          "height": 207
        },
        "outputId": "c0bed932-4f22-41bf-d879-84a5c8e1cc7c"
      },
      "source": [
        "!pip install pycrypto\n",
        "\n"
      ],
      "execution_count": 2,
      "outputs": [
        {
          "output_type": "stream",
          "text": [
            "Collecting pycrypto\n",
            "\u001b[?25l  Downloading https://files.pythonhosted.org/packages/60/db/645aa9af249f059cc3a368b118de33889219e0362141e75d4eaf6f80f163/pycrypto-2.6.1.tar.gz (446kB)\n",
            "\u001b[K     |████████████████████████████████| 450kB 9.4MB/s \n",
            "\u001b[?25hBuilding wheels for collected packages: pycrypto\n",
            "  Building wheel for pycrypto (setup.py) ... \u001b[?25l\u001b[?25hdone\n",
            "  Created wheel for pycrypto: filename=pycrypto-2.6.1-cp36-cp36m-linux_x86_64.whl size=499957 sha256=dfe0b19d226d917686d3f62341baf082ba7f5edcd574bf72fa4c93265549ab9e\n",
            "  Stored in directory: /root/.cache/pip/wheels/27/02/5e/77a69d0c16bb63c6ed32f5386f33a2809c94bd5414a2f6c196\n",
            "Successfully built pycrypto\n",
            "Installing collected packages: pycrypto\n",
            "Successfully installed pycrypto-2.6.1\n"
          ],
          "name": "stdout"
        }
      ]
    },
    {
      "cell_type": "code",
      "metadata": {
        "id": "fnHjB-7Hj5Pm",
        "colab_type": "code",
        "colab": {
          "base_uri": "https://localhost:8080/",
          "height": 68
        },
        "outputId": "71746680-aeee-4e09-890a-b37137c98fe5"
      },
      "source": [
        "\n",
        "import base64\n",
        "import hashlib\n",
        "from Crypto.Cipher import AES\n",
        "from Crypto import Random\n",
        " \n",
        "BLOCK_SIZE = 16\n",
        "pad = lambda s: s + (BLOCK_SIZE - len(s) % BLOCK_SIZE) * chr(BLOCK_SIZE - len(s) % BLOCK_SIZE)\n",
        "unpad = lambda s: s[:-ord(s[len(s) - 1:])]\n",
        " \n",
        "password = input(\"Enter encryption password: \")\n",
        " \n",
        " \n",
        "def encrypt(raw, password):\n",
        "    private_key = hashlib.sha256(password.encode(\"utf-8\")).digest()\n",
        "    raw = pad(raw)\n",
        "    iv = Random.new().read(AES.block_size)\n",
        "    cipher = AES.new(private_key, AES.MODE_CBC, iv)\n",
        "    return base64.b64encode(iv + cipher.encrypt(raw))\n",
        " \n",
        " \n",
        "def decrypt(enc, password):\n",
        "    private_key = hashlib.sha256(password.encode(\"utf-8\")).digest()\n",
        "    enc = base64.b64decode(enc)\n",
        "    iv = enc[:16]\n",
        "    cipher = AES.new(private_key, AES.MODE_CBC, iv)\n",
        "    return unpad(cipher.decrypt(enc[16:]))\n",
        " \n",
        " \n",
        "# First let us encrypt secret message\n",
        "encrypted = encrypt(\"This is a secret message\", password)\n",
        "print(encrypted)\n",
        " \n",
        "# Let us decrypt using our original password\n",
        "decrypted = decrypt(encrypted, password)\n",
        "print(bytes.decode(decrypted))"
      ],
      "execution_count": 16,
      "outputs": [
        {
          "output_type": "stream",
          "text": [
            "Enter encryption password: a\n",
            "b'PNBfzghG5mflZtDMqMTPTftrcXpSBhTXMlC73HylK/OcnQJPMy7NIHeP5oPUYuKz'\n",
            "This is a secret message\n"
          ],
          "name": "stdout"
        }
      ]
    },
    {
      "cell_type": "markdown",
      "metadata": {
        "id": "mg26DXUOtxtn",
        "colab_type": "text"
      },
      "source": [
        "# *** ENCRYPTION AND DECRYPTION***"
      ]
    },
    {
      "cell_type": "code",
      "metadata": {
        "id": "d4vAEwzfwHci",
        "colab_type": "code",
        "colab": {
          "base_uri": "https://localhost:8080/",
          "height": 88
        },
        "outputId": "aefcf174-3d7e-4196-ef01-4acabd2a26b6"
      },
      "source": [
        "\n",
        "import base64\n",
        "from Crypto.Cipher import AES\n",
        "from Crypto import Random\n",
        "from Crypto.Protocol.KDF import PBKDF2\n",
        " \n",
        "BLOCK_SIZE = 16\n",
        "pad = lambda s: s + (BLOCK_SIZE - len(s) % BLOCK_SIZE) * chr(BLOCK_SIZE - len(s) % BLOCK_SIZE)\n",
        "unpad = lambda s: s[:-ord(s[len(s) - 1:])]\n",
        " \n",
        "password = input(\"Enter encryption password: \")\n",
        " \n",
        " \n",
        "def get_private_key(password):\n",
        "    salt = b\"this is a salt\"\n",
        "    kdf = PBKDF2(password, salt, 64, 1000)\n",
        "    key = kdf[:32]\n",
        "    return key\n",
        " \n",
        " \n",
        "def encrypt(raw, password):\n",
        "    private_key = get_private_key(password)\n",
        "    raw = pad(raw)\n",
        "    iv = Random.new().read(AES.block_size)\n",
        "    cipher = AES.new(private_key, AES.MODE_CBC, iv)\n",
        "    return base64.b64encode(iv + cipher.encrypt(raw))\n",
        " \n",
        " \n",
        "def decrypt(enc, password):\n",
        "    private_key = get_private_key(password)\n",
        "    enc = base64.b64decode(enc)\n",
        "    iv = enc[:16]\n",
        "    cipher = AES.new(private_key, AES.MODE_CBC, iv)\n",
        "    return unpad(cipher.decrypt(enc[16:]))\n",
        " \n",
        " \n",
        "# First let us encrypt secret message\n",
        "encrypted = encrypt(\"0123456789012345\", password)\n",
        "print(encrypted)\n",
        " \n",
        "# Let us decrypt using our original password\n",
        "decrypted = decrypt(encrypted, password)\n",
        "print(bytes.decode(decrypted))"
      ],
      "execution_count": 4,
      "outputs": [
        {
          "output_type": "stream",
          "text": [
            "Enter encryption password: OAVrXFlR8XhazKRBQltoLatsaBhymgK80mZT4Da7Rl5a0T3KyuuY8g3imfxUS1ATBDbohjuoCGbVJmUdovJ5Mr2l1iB2yFucagTw839fTZ0xg3o9LQToJ2kunrmmFQVY9HpUMlVAC9wYjROnixu6CcK9yI8UX1BgNfMPIwAvNarZWqjS2EkCIE5ljSXihaANV0VXqh9HnnY7C4xUwePrEwLya67CoUqWNnG4JVqz5HfynOJieJMiHgUlwYALTUZO\n",
            "b'2cBVLTBHREz8jzIqk7rcuMjtPSRJnVpU3hAPkv2NUJqZ/ktYujfDCp3wgXVqmf3U'\n",
            "0123456789012345\n"
          ],
          "name": "stdout"
        }
      ]
    },
    {
      "cell_type": "code",
      "metadata": {
        "id": "NA_FkC4l7sIm",
        "colab_type": "code",
        "colab": {}
      },
      "source": [
        "'''mylines = []                             \n",
        "with open ('alice_in_wonderland.txt', 'rt') as myfile: \n",
        "    for myline in myfile:                \n",
        "        mylines.append(myline)           \n",
        "print(mylines)  \n",
        "\n",
        "'''\n",
        "\n",
        "f = open('alice_in_wonderland.txt', 'rt')\n",
        "\n",
        "data = f.read()\n",
        "array = []\n",
        "splat = data.split(\"\\n\\n\")\n",
        "for number, paragraph in enumerate(splat, 1):\n",
        "        array += [paragraph]\n",
        "test=[]\n",
        "test+=array[9:500:10]\n",
        "for x in test:\n",
        "  y=x.replace('\\n',\"\")\n",
        "  x=y\n",
        "  "
      ],
      "execution_count": 0,
      "outputs": []
    },
    {
      "cell_type": "code",
      "metadata": {
        "id": "l_fFwS7-w4w5",
        "colab_type": "code",
        "colab": {
          "base_uri": "https://localhost:8080/",
          "height": 1000
        },
        "outputId": "8980149c-35d0-4615-c2e8-0c22376f05db"
      },
      "source": [
        "\n",
        "import time \n",
        "import base64\n",
        "from Crypto.Cipher import AES\n",
        "from Crypto import Random\n",
        "from Crypto.Protocol.KDF import PBKDF2\n",
        "\n",
        "start_time=time.time()\n",
        " \n",
        "BLOCK_SIZE = 16\n",
        "pad = lambda s: s + (BLOCK_SIZE - len(s) % BLOCK_SIZE) * chr(BLOCK_SIZE - len(s) % BLOCK_SIZE)\n",
        "unpad = lambda s: s[:-ord(s[len(s) - 1:])]\n",
        " \n",
        "password = input(\"Enter encryption password: \")\n",
        " \n",
        " \n",
        "def get_private_key(password):\n",
        "    salt = b\"this is a salt\"\n",
        "    kdf = PBKDF2(password, salt, 64, 1000)\n",
        "    key = kdf[:32]\n",
        "    return key\n",
        " \n",
        " \n",
        "def encrypt(raw, password):\n",
        "    private_key = get_private_key(password)\n",
        "    raw = pad(raw)\n",
        "    iv = Random.new().read(AES.block_size)\n",
        "    cipher = AES.new(private_key, AES.MODE_CBC, iv)\n",
        "    return base64.b64encode(iv + cipher.encrypt(raw))\n",
        " \n",
        " \n",
        "def decrypt(enc, password):\n",
        "    private_key = get_private_key(password)\n",
        "    enc = base64.b64decode(enc)\n",
        "    iv = enc[:16]\n",
        "    cipher = AES.new(private_key, AES.MODE_CBC, iv)\n",
        "    return unpad(cipher.decrypt(enc[16:]))\n",
        " \n",
        "encryp=[]\n",
        "d={}\n",
        "# First let us encrypt secret message\n",
        "for x in test:\n",
        "  encrypted = encrypt(x,password)\n",
        "  print(encrypted)\n",
        "  encryp.append(encrypted)\n",
        "  k=time.time()-start_time\n",
        "  d[x]=k\n",
        "  \n",
        "# Let us decrypt using our original password\n",
        "for x in encryp:\n",
        "  decrypted = decrypt(x, password)\n",
        "  print(bytes.decode(decrypted))\n",
        "\n",
        "print(d)"
      ],
      "execution_count": 15,
      "outputs": [
        {
          "output_type": "stream",
          "text": [
            "Enter encryption password: OAVrXFlR8XhazKRBQltoLatsaBhymgK80mZT4Da7Rl5a0T3KyuuY8g3imfxUS1ATBDbohjuoCGbVJmUdovJ5Mr2l1iB2yFucagTw839fTZ0xg3o9LQToJ2kunrmmFQVY9HpUMlVAC9wYjROnixu6CcK9yI8UX1BgNfMPIwAvNarZWqjS2EkCIE5ljSXihaANV0VXqh9HnnY7C4xUwePrEwLya67CoUqWNnG4JVqz5HfynOJieJMiHgUlwYALTUZO\n",
            "b'H+28Ul+sUyPyhiRup4g0XG8PkSfe9IjLUfT+e3GM69afaEsJSa5sHJ6NfzsQrs0uX1Za0Jxr28XXd/IUd2Pz9wcNZrjJYkrXyWjGibcKtZJwKTCS19ofgOKwXrPLk3y22t1M6GYMR/jVc+pF+quqoscUfoHa0ugzCbmygDusk/XdEkSWIAu6gBYNF0M7v1+YfIlqrBLef95A+cwJ6zZNlhgv1dGMda3N/2rV/WLjBP0fq8+vFXo/amLptKwC+3KHXDovibxwU/WfVTh7wc7qX03241b3j82Gl32TfX0wNRBBgprMkusKaWH+31OndWyq/ZoxlPLdTekUIMuYlkvqQWBYier8xfGbV57feZu+H/CkNCbRYPQLoPmOSlTTpdVnZkrFFmVCKPxel2mWKJxsQ6iDu3Jf8O1z8oBOAGP0pJc1COO1SblUC0lXX2/Ci1Sm73ZVfY0uqAIFBtQSMi0SDczstr0/vreg4lOwH/N/ZLz7b+xteztVlV/qK3SVvL8w2DRAgm6Vs3MakTpESNIrE9M7mb8PKzUZ5BtTGtHFpgSWdd0HsNBWSmfYiHy6Q4z7ZYbRL7xrhajPceJHqXaObNhvDkJj8ch1WgeXCvo6jEPPA+e4xCpWKZpwKWMefdWeKDSRZUwJGPLsDPtFWSjBRmE3IN3j3CKmJWKIYMJ5RMfZpQ2ArdeiGXMnWDyJlIDkDKjZoOSq/sU6gb01wLr/cfEc/lNto1KCxPxlQVgQJovYQjGgpBeOb8qy+Nw0sA5e314jTam2F5r0IrBbA/xCdh75ZLk6USWlQjkyIEsZdD1x8fKbos4tPL3CTjOzhmHOM0s8UEiCZBx9Eg2Gqh8d3xsB8pj6Cj9uR8p8b5pKLNVSOK7sAMZx2gtJ7tYC9bDh4Kgu3LLweCkrLL2FVuQ4XkWmaVVJ4ihUjyZOj2nPwVjK1YVR9d3py9/PswbjCm4Tj8Qc+z5d0Ui1qKyyy7uyUGcrbL1fZIv85U/VUgZpVOBMmKrw893ZV2syaD37DILV'\n",
            "b'hwjz0mZc7yESzuezvJxJ9BVbUMNl1GoZNzvWm+KGYcsTCLW6om3FfcyFvW48+63Wd4Bl4bS4KaA4wy/PYQV0UhlW+KnFQCeuYptrfwRL5US0ekL+eSuijCbNsMWZ1lUDHZ2/Pm2OrUdqgjgIsqB+WGcdGF6BRjpGk9SQgosjjc3ug0CxZEfbkxn27ivaTnZVIsMAulUsaT3TBp+C6b+ljtj06NPdBduFHh+Qb4g8qe1w/6BD2xzb1R1JWbqc4USb2Tg2zlGumazgrDQO+fvPxfEJqkjuFwc2BrCNbgbsAl6cIa/VdgkFfb4xvyzk1LIx5sJrAeoqKwn/yJr+GiVyqhekWS1lr1MKu95sjB2k+vfjul47vJ9R5WiYwQXLzCSMKfUqa22Gk7YI7aakzH4Q2u2eUFFgL5UdtKfuWPP+GxYQM5nCe1NBqdrPFCTmOHkDVlzed2hqwDSNBCpAsCXDB/+lWhkJ8MTrMPQhh9KG56MfBojRHCa7UE0fSo2URyPPKezm4oxTXMRzyGXhoVeYm9HyQpd2Y36hpot8Wf1PHMwbmscKXlmIsBSDmZmXlcjbPlpdd+HGsWjlov7idUmCPRh3LRkQziBBpL8LSPxcx2ZxVdJW6xUUX1QQAdaSX9vR/Gl6E+reYLTVyEhmHkF0yBWQwJhr96ePr94goV1nCGSf4nnmlHPoK7yBdG6qvpofxAZzldoNevedTKgX0dGwUMX3nEPStFAQNRKkauUqti2vGQgS4TFgX/84/419Tk546kVdgSWoRKDq8scrnRZZ1Q=='\n",
            "b'9Pxtp45uQ2sQjCRfcBYGutH12rmRd3kLm1N14SyAYg+SxgjOFqymT3177oQrn4SF2Tp7UuIZWHZnpg1l/Wp27c3geGLJCmo+NhP53YGW0d4IsqZAGm1nNm9s9AUAB0gd7z5NLHTND1rpmWv3f7eMJ9XSMQSU7xi9eNK+xtkDPKC6dagKkWq3PdQTrrmnQgrOJ3dN785pn/K82Y7tIe/FzmXh9z2XlJnooBNHP2vtQn+T27MKIvPxzHEkIfdiEl9FjBhXY7KjcM20M/fARocB/K9c73MG6JOIPSfV582co1GeNKnd+I+Z6Hsd0+fJ23kXEQS5nnEalvvb4dEc77LlTxPtnoQuZzwB6ofymk+wtEJW02Bv2WQt2wDrLkXRk8drIWsa61HxbxHbkcXLFjkeFzk+tHGnm8MrHZo7ip313X+Tx/Q43s5MNOt+n87r4z4D32iy60wwHEDP5NCVKZvqZ04Crah0MtQ3KDirEqdZMueCoJAb4mWnioHGQEf4zSJYVJjJl1JtMVC17m64juP9jLlKFj7HQrnzZr1iZSqxRd6+z/WPUIXDhPRSp8Mbh7UoF/QVXrkW96yjLZy66z8WUL8AC+TAjm1GLOx2UGuKkGbFuloadalsV5wCn+RmGXAyaKlnKKkwvGqgUap25OWaZ2WB1ITUy66vXARMjDN7OmHIO/HoiQhBdqTcrJSaG6rXSHsbqSwY9ueDaG/ZtSlARw=='\n",
            "b'csXdf0TB7BVDf43tSsvTxP7CzTSNCegNwT2TToHzbh7ZY89/bEI74CKhrdk+Q+SK9KkOUN/s7ySyhJfJhQv2Xg=='\n",
            "b'vNKR0biiOwDEZqjKa0/7vBQnMUVE1fkKDeBvh44wcsS2ZFQHQv30TOdj0gsC2581gR/hprSj27Hu8+YASH8UElmrH3UGijQL0XljDhdw9fYi8p3bJepJu6z57btHEuwsWQFW1tqBMM20dXznl4JnKFhqReDwLNyBUbnU4Qy2wVq2URwR/5evkZZI1Y5Usk2NwMzCpf8RVWLizvBqC6vpv2bag9HyOol6ofQzP5DvZ7ZNbEF3lCY3j1/VwUSR0yniOMiJZkmgXauuPOoKDK+MVvHk9bXJe9KZbGmljfiSGEXLRU185CUs0OxGPC7wDLe92D46w7xBrbXjYd3xDlexsFDj6S7hI+Ks9K+ZrdvXib3pzLMVLxNhtkGko/xz9KEuQKQOIqTA2e5yAG/DallBjPK4UAvzzmOOsV0PjfxcIjSFp83BaPqrF392WgVlKXajtLsjD+jDIpHKyLgdetpxIoyHIKympGIwELBZ/NdSFkWQD6jYkFD2tCXIi026AUAg+0EeA7Js7gVZ1QOWejyziaYOcdmoWq2b3jNoxn0EeYXpWhrw9rfWpIAsQCW1s8+mO9X5iAkSi0vNEGcZmKrP2hQGABxGKKxnjD1GxTD4AAeRjF4bq2r7GF5/eUx6W370ChYbOob5RlFepfiQoIYbVvHBJ0Bz5A8zMSb9PxvmkRCCPHa6X5BAXC+yU1Vyq+xBd1pxXTcdOFDrbhFcXG4bKqpEM14CUOzVPdRBMbGH8OzLBT0z6IjmhX/MVl78PR2L5SAyMOIW57q7DeyDSdc0iDuQt9sXEZinZetFpv78uvOLdynaJQ12IIpxMxX0gbcd+cKiU1TVEtzIVtuL05G5WK75srHMrsCjhoNj5HnKooVxTW7hUxxLjocYGko+7zxSyoszCPCgTq5pe5Ev4S6+Q+w6RXcLNvmlxNg/+KqjqYZB1EcyBjwA4bcxlMPmjbLAjxLjtkhOiSNK+o+kqkZYYc7UKClkpExeCBz/uU1oQk+qqYt+o9YNe4NbDMNUeAUfKndYkEGRs4FcNjDq0nW8cfDgp3dPRW/tggwYiA84H9Tf/3jUOOKMAEEu0QDI6l8zag8D32Xgb3OSvDNYEMb7+TJ2jGyxM4PGZb0x9z3SXHpp4SO1cbUojNmtS7IGSUw+tOYzRA1IcTRHNceYQ8AL3lk2+2GqudoFpz6yyKkvDdN+2s5O/RRMYOGCtwqxxR/TLfWlC+/OG51CbaI83SSEOG2F3bjYSH30xpcuJgld+vqZ/cqc4zTJehSQB/fHLy/M+L/tV8d2lxLxTyVvGFmmXA=='\n",
            "b'Z8iGuPKf5Uy9MaQKWzEgEDDL32z/tB4KX7gkmnWP+aiRBWxIMH/KtG09XRLQ024AWX/3wTbLAQ/DGqNDWP5dpMq/sAvHH6lkVJnCalHlJ4pFhLtreVbEOJiiFFuX2zLAE68xpDm4AG4qjrgOm22CLfjxWPfsRFpDOCYa3RO/A7xRZDKz6IlYe2nzZBOYnOQghEMEX9eSFFtrO0S8ty0ZpEMhkgjrsNLJNlrKJ7AQT9vWZ8OGzE2GtRyn90DEblpkZhBZOHcMyBiCUhQ+2pjVUaJxOts7MzxcAK4BPgWk6rt0fFuN+6HSz0ORP/Xm3vizvQ2tT6wkZd0OHiojwSLleqLTYhJzNen9q50TFhMuVunZFNRvP/mR9IdU3LqNKmGJUpOw13DWU9RE17ugv0920VCUZMzigy57/TQwj08OX/zdhY1fcCiWXTXRPNAiHVq6B/canxyBNsS7KViPutZBoiVDzjB2t8m1ph02Dp7bd4PzoyACUif86mfUAOzoPAz5CWIkTqOE5NY008B/w5SbspeGu1dBxgOt/3yozAPI7XDsyNVssWpFMhyirjbo9qBcOA8Ndb+D6mXg8wS+j5yVKoHJJQvtqLPPXX6Oi9KpaHezKFmzgV52jVIJkT306fER+zc3UEw1042RQ/HD9mECx2s/NGU+99twY8EFdQscIfjHhcyr/no0rekOVwKt/nBwDS0hi4LcAkxbaZCunJfObVKA5W7G3Z4gTSZn4ubqBM45mTgGHD0sAseKqNBOc8a5BA2h5E0cDB+ah2v1XnCC6A=='\n",
            "b'2hrAWR9y3S5bxadwN9rfSkbDhoulPyXWx9wAdGn2dx03t0XHXf7nF+kqU4P4xkydB5qkE0f+BuaAcGYqP3PICpANj39v/QekV11A/54XfEYcI1oig1lQf1lcuEQc/byWtcEc3gTShEyevoQnjkDBp/tl0kYipuO7i5L+MDU/qrZ4xwRl03FSg3vo4Jom3FF8O9XRF7J/AxWR5zOQXhyezXMrlJZ59srf0SDobitDgkrpFFfj/MMEXJ4MeDRXP9WjAZlLxGugnSCs/ATzQeFGVayG9s/69CxcqpUV/2rKXlw='\n",
            "b'fmdKbHlnbx0vniKnZPjXsur4sueNXtWcWJfnW0yIolNfz8n3nMtIZkDWKzS1DHDbFS1HTOZEXGMpFiB91EA2m0R9yMtzz7VVUa2GSNV5myKUgBa0P3ETgnPaKPWOtOEYGJIGHfI9eyrM2LSUhvYidYHosaFeuFcj2UDRBw/pN8g9HdRqddQODogteZohX9mSjvbczyQg4uAUfgR8MvLsTcnFOp/vnEIm9aZ1L2M4cJU='\n",
            "b'8AFP5F1e/f3z8v/P1tij5Mqc5RkzkRTuLmgtXLl3kFMSegJktmyAW0zvkyfLoR4ia6sP7r6/RHVIrEllqBkMVTO6KT7Y2k8HJq5YobWVPMBb0m++0HqjBJucA0od4YtD'\n",
            "b'HLwxgCPL11l5IlDedFTFcYlhWM6XQhm2dpCuBe4MuUJs0Ff5vo9Vf0priv+BlfDhWpuE9ByYJ0kQ4zn7YMSu96RAhTdVmY036slkYMlh5oWtf5Pnr29zL38XabW1JvYibgoQEwuwyn+LHI/PUoPoAE8FuiwgDrAup842zs0XfR3MRMaf9c/D0kbRA2DUa87DG4+tPzcQ7oTUQuN2acfXCDeEZ5evBsdIKMq1SdhMODEea6bAVewcJ3/VGY02XN5Q'\n",
            "b'hzqxcJ5LvOeIDiAUcGbpZKOuWKyfWwtRphgB92IGXMQaIzrw/JUs5t5mrAweP24jslEXft/HIDIkde2iTYN+zw=='\n",
            "b'yizsmnHNzGrjzVJj+JhY3UXDlVZ2NSpBN6YZQU3GW60k4L4PiMsLiT+Znagjk9v+v/ZWnn05kIK9vIR5CAcw+mDEmLCLOkOaX0mcppH5tw8='\n",
            "b'Lmnx68nck7RGKhlyQpSkwNipV6Gy4rddxuRBvP6AvrQP9Svq0/rOBoHoicqSlkom2uv9OXn2UNC9BKRku7yp7Ax9rsftORdx5O0KbWZVabBDAyuULBdIZ7m7KFlf1ySr+bzTCL6y1J5TVc1vWAbbq6ohgb64n8a2zJEc/ShefeJOQwCnyiTbszpRXBsIdetx+ZW/mx3cwv8sd0SUMcfTZSXI8zONnthWiS/vJrJETxGU02LD8KP99nD2PirdCJYtClZlQudL0UH1z6d1NyaRL3WLQ8S5B5BBhILncZRMr9Q='\n",
            "b'PyU5rSgraP88PN0u/0VhbNAUaRr1SZPd6X+opufiOL8ikl9MTgri6O5k0RCmvvOt54RwztgjcWwuLU97ejZ29rwsbjfIFkpBmheguMkNA9BA5HlPFaLKzmuyFdjP9h/diUvc2NfcYN/dr7/yKpwIKQ=='\n",
            "b'xSOKtqml+FJ1xGeVq7VgbqBSt37155eY6U2ARvS77mpytdHNXGIxganVPjT3jw/EIZkMjIZ5dF91iQXXzQUtdpQ3cx9ffMCPLv43SqVRnYNIvi9PYqawFptK/6UGw5yua+r8U6CUDYbygiZyxsedb41tyUNmzOrFuExZg2cSAkeSm6noHo0CC05ZxjRVEtOltXbIdzrgmVBjp7C1GlL3Gw=='\n",
            "b'jrfDSRYaQFfAXEQZ1OqdPKH392f81N2lCVpCpmqgHbSiSG1Jh3OnraC8Jb4p/MHu8ARG4fqQspC7fm3ZjnsYNuum5h+csMtEOiihMBv0wfRJbCOTTE/Iat/8iXc058jJkvhIFajBNAfKqgDdvKvZJL7iYB8nFh3sbtQizQSEIa0oM9Xq5UoknEr8iYTt9sv0QjEN5hwfpIPQlUMDUV8TThjDDaKcrgcIjNhSRBVWaWyAOnF3xa3aUIDKIxop9uEGIcq9HJRy2RFpDJjcoWQzI7+t+vlYflZ9KbdHzy9YEWzymghhhNqk2Fb/qGQBr3CBRXpWdzPy4tnl3Nmq1FeIkJDoLcw8bP8hcVhR5qd9oGnUzu3e91dHyckH7YjNy+oFYT7uQGbsI0dEThe4VdJ7X3r1A/ztQ1WG1ltR/spsWUawX9TmGLJO6GgNTsWdF4SNVqUsdlQDkDiqYYhVCnAP42iowdAPYst65dbgSCR7rOMjDdNddvWj3zoH0XLhUvfptWlxde6gDAOKRdYmG6ZhF7AblIXz1a9yQ/oCH/ZT77pZp3ydxBV5FKjdgQqfrDMauq0WdPJBzZtM8y3pyVQrGiiEKle4ukjrHnJUuPvVfX0='\n",
            "b'jnFyRO4+ZxbW8UUpJN+EllOhYaDuzyKi5w5Z5mSeKEYy90bHJufIt08ge0TwbhbJ7hvfrYzGH5XnCT8jGwi1mSP53M4zzTogpz8D19TB3fIC8sJ18dVKt9zg+cZGEcSnMHVazDf7v8c2lTnFKwSLHA=='\n",
            "b'eiTUjjPwwBrPAt/Mnkdmxeu1Tehs/qtv1StUZ95dB5UQgANhZxXjFuN+t2S42B22rMi5WTKi0TUZjSgQm/a0zsrjPst5cGP7FIvzTPO3RIXsmDtLbiL1w6eqPVf0Ky44n/pB22wSi94/WJjFhRaxqYCyZHINIFWawcDRzeIziPHn2rAuEJknUNDC6qU/MnwmA4yvQnOrcoIuUw8V8cGFleZ7nv0/3j2+gpdEP8xyBo4xwmG5XW0/Uqt4AUOHaDgI'\n",
            "b'e5B9ck01q73BweDaduE7WBfWYt0ybY6PfHOonaY6n+1wmQqt0AAVMJvDyDoRXLsB4DUFtW0dXjsexYpxwgQUCGmOO+DFEuzxjgztZGU1dKIVSsmIAxdKbXSb9SfQ6cWx'\n",
            "b'56Itx+Sgrmzo6frUnOhtUbVBf7vkKP3LJCHJgv8FRhan0hg/5bTvDQBsulzJNWH/pHRr6yeZizJ9711sQ++ug/cvF1Qg7xOew2uQtysQI9s='\n",
            "b'jvwHie8yiRHG8FBvafZ1So0QsB7Md5gFL5XfsNot3a8AXtkJqZ+J1nlpPoO/K+LQKNqfIuq7sqJEtEbRZ1UC644aJ+QeWAiIC2aUvzR8fX5btrLPg0gYwDA5Yncgz6bBw7letaD7/vbGdb1aXgsjoXDRrTMTj0VHkYEO+hmJQKxS3Q6JHcDsZhI8rd7mEz7pIPEREsDZ9o70SnkwBwa7vQ=='\n",
            "b'5uXz9Rl5Q86CU31w2jO9C9wEFl2LBQbn1OKwB9o0Xo9PBDmpnTFvK8rbiPg4Zyz1SRL/qQ4dxDwsjBAc0f3206NPpp5Yv4F6q4OqvEYWlzc='\n",
            "b'0jdPnmb12mTk+Y7pXWRhMZkLu1r3ZLtzpa/nZOtVDKYxqW0/ya8EdLpoCBCwxROpxRANTNKGvqoWlYyS4k9X3lKixAIsPYLK5GGB6Z5aymcTMpXoxP6eVgW7VDV9o2BAiRXRBltbkA+uqEv+dDHjMR1AsZ3fMBSwgiIfUJqYEXAWeNTM5iR9zAZjmqN+Dng3'\n",
            "b'ckGQyH8x3Y13jcgUfAAH8jx//OiBzyEWjdTwO++eRvTE0t7LeM5KX4WYN74JP6arhI6B+h9jbMIFx7u8yAHJDblYYVzcRLp+/A27GglBprZ92hdhmEHDBRdM53t4z6r/bpgt1/giTabKbJmj5Cfe08wtsbnM74k4JfkbGru4UfYis4pXIU4HqlFt5a2vDZsjjmmn1jEmswSyVZtfD5/t80vNALGvozaC2TF+T7mJVIRpzg0OoT26J6lj+NeTBXLLP8WeGI00C+7ZKJDruGHNfw+Ublogj2K1cEFb+56jvj2+LdPLRmCUp5Uhuio0+7G9JvlDtNRmNyU0jHu+Ag2vK/AG+tPoW+0cpOnZV599rDGnLAu2zOK8K8ZsE+YiO9yw'\n",
            "b'5/z7iqxuVhHoVMJve6XBbULLxZRmZHokLrvWsoDNdS3fdAjAcua/w/wTpNZic/OHr+o8KGLGllPRyaD35gQQnD+DNE2D4CHxKp64xreFC7orCFiw3Y9clt4mvkpi3L5ZQgOgZKYGbo2quFxu2RYHq1gQfShtZze4cZn1N7EXyIOaj/NoPdYCjDekyfKXxiSuhX/UN/c6FKyW1xeA+lqUCSZPc00ny5oF2JQuIttsN+C9GOsenKuBTBucnz+EleXWdouJxSU4eEYaapi/Nl6QFyGrOryERdLQ1BcyjimgP+z/jZH4elLO/qvUjlnETwiKpOqMH7n7rPPgPEm+nMzwdS9vq57SVBw+2zMETu8QdBk='\n",
            "b'D7Xq1NG4q1+d6YbVujZzZkIXPI2oKUMYlYq52tw7MNM0e+qTBj2aZcLsQeZV0EQr3Li+IhkKpr80aA9nnT3I/LNYlez5jaHljSjOFGLs3ZQUFUTN6KuT3kNwr07zIrI/hglaFBemYLzSQtwNIby29XzwLv7pDZlb5zmW2bmPW9+o44t+Pc5um567vG3S02AqFFeI2nBjeLk67+6/1mGIHOuxejyc/T/Frkv4C7fOSE1WOWN996uhOuuQ4rJL6BMjerj0wUSZ9nkeY56rQYM/hg=='\n",
            "b'JvACyr33HpCKsT9zyKyk1ekxQ/rGyt6pOABoVtKWu+ehkO+ZVp/wLWcJYMaYfhSSg0GbeXInzYzjQVusgu94gmu3xQrqAvK3/Mj6LKVq4bQ3oK2zuSm9fwGWjpyG7v9hklmESx7O+MjkctT5xMb/Bj0/LVtSJCuskKKZZrMoBQ+K0Xs2rb9RtrDI1/wh9935MF/TKizKmXJvnx0OlAh1XXVV/QaRw35l7g/EJVJ4bHExOQrALFMXUmq5ra/UkRjxbRKMOmrwHlBZu8T7W1nL3FhwwMWqYj9uiYzunztwzHw='\n",
            "b'DyifIezUcpYmEO66Htb6OTSshmlzl34vZJVEmfCSTYDT0SUSXofi4sq7n6id9tow4BFYYFfm2eIMTx0JT9D/YOtRZSWzFW2+0ARWqBm0G/JdNUgQWuGDllDn7V6L/kIP8Mk+xB3y00SAa9Htj8FvuFOvyP6JAQr6qD4CTQ3fqMZbXHtjLMteqFVl1msQJOSfapfaBELbHskhEsatbXivFfsgmcmnJwzTzCxRwxtqrN0txToeHCDR5QUC29iv6nj0qIOFc7uKx/6wFy3tm6re335gZyYkxUfdfNC2rnfISjiHXLcE7rOiN4xuZmV21wzBrKZ+VrdbdlK8Y8YlZAM5jA=='\n",
            "b'eK1fDJHk9oegbs88vCoYpB4U2w2KUX5IykF8unR0p1FBR0rz+4USsSQwJj6gagG4XV114aeeHjlK74qgfZuERJQIzF2gr+29NHfzzEukowW7FbMSQtiqIMip3pCoz07EWv/81/3pQ19xa3kf7BLkVIJZF7m3kW04EWgXA/hCTrNcCe0EoDnMn+qyuZXtI7UT6A7yky4hnawSqbVtnuuw8bRZn4kH792bxcUEJjYZHxsvxww8GerXVGdQt5pvt33QyrHM0RCiJOZsoFxr8puVzBRIRnp6M01nCPXI0s9p9h432w+DYSq1Q2HcC0FKbez8vFAjmT7nJ/ukrwCEw1DVxxbbZs5MygXbx9q9DzwnuKp6ynapcO3Zks9TDs9kU3k9yzs0pzdjRYVrEED2tung/A=='\n",
            "b'vJc2nZ1zgJa1Tnz90reriNBElxg4lRNhk2qo/3E1MFvnHi35IR/SffDTdR6VyYy5PZEcjhtE2bcw9mWsxPnBeA=='\n",
            "b'f8TmIrJqwynSMxOfJ5bsvo7lxcmWjVgGQTqnN/RqL0KCpIapjoGBTG1Wie7QnPly54g7KQCViZIEgmPq9YgoCfalL4HYxJiUjtEATMLHDOzZsF6xxize7PNlg8l23KsY0FpgoMSteB0muCqKZtiNxr2PKdUIBrNJq0jqREg4zCA='\n",
            "b'Ya9drbL9yQBCLjMbx8IxAw6TAv9rFWdrdo0bhwtHzgcOuZO8pTTxNG0wQy7xgI9Nw33Pdy5eHelnigZrNQHQLUhe3G3ZAJ6ckiraOcFdO3sgbW4C6498RrJHMRpWXp+8tIeD63i5WX574EUdwdj1TQ=='\n",
            "b'M4KbfUxCIkxrtYs62RSG6G/G2dC3PVs/EzPzDJMgurd6phZUUwDbrNz6d/nQMJV8WBXyfaWnJw8pkhmGBMbK6Q=='\n",
            "b'jbhHlKvrIXyN5w1Qmq8ip85Hm+DNkNUQDYpnKSee25TbuhOoPhrZAXg6ssdZhoFjaES/q+6iCGNPr0/Z5WkYW+PSrfYtxEKfTxksKaNQrIqN0TN1X6uqTWpq9DNyCQaHAypHEp7VmOoIPRViih9ofV91it8IEr0Y1dknpoxIKfo='\n",
            "b'5QdMaYT6kVdRpzdsPfN21BZ83C7AUaMGELf5X6h1X61h+339w5F+BFS3Q1QiCM/raZ3o5+CyieX1C5whq5WvZ6mq+JQVFSLIObGeBRp8uPaw8cdM9zLH8+lA5NnOs45oTTmCy8SV7QCklhdsQ31VnxCdYlwCAyevyS7vaMUuRnWvhMzwfy7ihVL1SL6XLOXj09ovEbbciIpOYSHsCxcTkPFRGvj6GyjqzQ5dRNStFlaVQAbjynwU20qfJlnhIBM+VnMD6soCVGs8E6PkrHQIFJoE3QPqejEJcnyvdBnCYlMZfVD+CU2I/ORmYnZRvgNCG+wcAUz7OtSoJ0bo6z7RrA=='\n",
            "b'EnECSegMZsTUvUZ/bURAYJDKtHAtVTBvr7yqPThqb6u2gAAJaVWY96AfWqsuAUC6YIMHxYZye13SlgkuUxPV9r6Ec/3somrVVWRxnS/V9IA='\n",
            "b'exAEz/YktHNnEdZCpP6GMRrhx69gjR1cvpjiruBO3KNNHcrHZFaQnPx4mfwH32303uOywDJ1Cfo0u+uUj2aQrw=='\n",
            "b'kezKH0gdUCSRzq2U99F2Wjf8BHr+rh1tTxSYMxk7Tm8PmDon86VujOo/TZweb2o1'\n",
            "b'1OYJ2AVY03VBbUpPAZBPzUdVZz3dUMrTagxxb5Kg3cie6TAcUCrbFK9x0uGlUClbAsdjheC8GTzLQDDh+aSKQojlWfhwRzletwTkRkPz30Q='\n",
            "b'nICIaIexzcgI5YJg/Z/Dp1lUe2MJiR01nkGdiru1s89eVcBMSxK/k0o9HtG0SZq0AnqgYidt/mlrxII0zW/e1MWb8mBZ83Pcw7HVAgcWp+uVWQuOwTUtB7lhmHGDPW2lkJM5seePT5P6sX5cTRmoVjl4mpXTD3vZq+ow6EJrIKVdz2WQ/ysy8wvaH9Bkb4ppEUH/ZIuM3SnAwWnTvK1/vXWD9M5J7Qrufy/tauTh2Y9ZP7QpJBjQ0+zBUwGJbh87vkQz43nkqvLsJyjZjtbXCQ=='\n",
            "b'vQbbtnVnjRT5tntisaP8+4huzTExy+yajhCIYDFKxYWkEdINOinNAJadWrp9dnYVnKfctgVwSGgZFNrmXMpqHqilsGEmScb4RY4AkYNtzQzqo9B9bgHCMDcFeuqtudVV'\n",
            "b'41lDHQvBeWJt46TBRSNm/nBx9qypeaGtYyh+amKUPwB6LXXtA0U9tNMKzRClcxVIJJWZJTVuF9tIoj7fcjAmvNk8DzUzBpp1DA+LQrb748O5F96I2kZfQ2RYM9+oerC9/QXUaeF1iGkwbbi5bmfMFvTaMtQmv0X+RQmWoDQNGEQBgSJlTd8TANv3/Qs1U9AYSwwMfsTCt18Wj+hZj3qk0v6oTWGQaJWXkUvmr1awM1k='\n",
            "b'plLcE1NlqaasCzDCA2VGl85CKaR0fDd2CDYCItE4S/0mvjygV8v/CSPiZbypU402DiPuVhrc+EWgZmkwfBR+6w+QUi7RMZKcRnk97WsJf1fRUEZkrofwwBWp2v71eWfu'\n",
            "b'2R6F766iwG9GVi/AR0LjdTjRmFDsJ2v8OW7jYYk3WmxIHB9F1IqDoSpw8JDFzwp1xkmE0HJGA4iYK3gobBxA2kWf3RdETApijDcao3cqg+XwgfCdzcdD3eFG8J8HxNww'\n",
            "b'3Af1qlqZ9iEtmJsZot0ihFUedrCyHQpY5tOxM6GRLOizBqLRcXg8hnzs7SJqOOH/1BfQBt0wDLkilYz+ds3pMKuqoMlxtnen1GY6tnNKPxyDC6wopeIhQnqOUVjjpujxhIwHyXLDxpSWnhJ0XM8bpKxSSwQii94+TtFLOgP5Kb5TyLmw1O0Ww1lspwLM491XA6FwqLNMJuo0n+KiU3cYOvAh8nMUD4jK1ntYl6+aGKbx5M7WLddmZRlaXvWtIk+nPGb1fdVB1/DnmjXWcnUZUs+ASDwHbxUZ3lNlBrk7htDq9/XrzXy91MlfUz9BAL7sNV3R8cO5GKOxTmOJ7C8atlLc/qe/dorKcxgR4AC49cAm2JBOzdzLqIhMoJ4S5p990I1GkGVKi7zauQtBCketvHqR7q/HoE5LJuTyMKcQ9620pTI0+71/lNskOBZDlSproV0sRj4VzQmmovPiD88qOVkovQ9WNBpS3p9LFaD52NCJ+oNO3UxDrJ/e/YVFA+JRgXlBBFG1rhuYFNBM0vMvJw=='\n",
            "b'ATc4YtdG7tvpQ3amqE5m3L+kH7Lb2SNVQuG4qbfl9sp+YymJ1+xBXJJa/o4jdIXhf1YFcL1u/NVzB70XdbqDHvoikhshimY1wHv+kw/Uvsc='\n",
            "b'KCrMfzZK/yaFNnZ9RnskQseYik+YYVre5R/kf3ZSN6Bp4EA80DLJ6UbEZOsEyINo'\n",
            "b'yAb8/ZWPu1qMOHZoV5RFwySxMl4hCGTJzBx2Nr4IzjSIHkDg9joGeImishtHBEvkNDRj5cr+zEbP3ArZ1upfhgI2Uqgkw2VVyYeBpCec7YaBmVW7pJjjKvg9NDYQEBmBdXbPjaOsk7vLv+Wlan0sjZztbYPPxhsxflv4gVIuU3ztRjlwVXvkRxyi/BHxAkihYKWF6/SuHxekmgzVao7dzMiuGKefz1inqz/8ia21pT8vjDXTQSQ7+M1CSDbu2YZycsWMYMJkNzmfJSttKpaLs9SF+I4QdxPgD9GvQ+z9ue7LQDyXAVtC3UdAy9jk/fnTmap4b+cSRem4EOHaqIP7bO3PL/g4biKAcpjYTUGL65CwudxkFDbA2ilvGlGoyu4e4/vBVGz4w4pA4yi10gF0+jdY8vgtJ8UOEm9baKJq3t+Mu3votEM/h45PuRfcMrZ5BrDdN4xWYqJ2RIglVwpHh/RacRH30AdTlbSYPeWF0BR0FjOnkeXm4uwT2sOnVb3PHTmzi3KRSu+42jyHvPuxrhUlZ+uRD/An0+9qSqacC+q5VH/3tNVAdL540u1vxPJJVWpDSD0pP1Zk0ufGQeu8xf2MRCBGiH7P+WZtP0FG0aaqAzMB9ujURiqZeo2AUi8b8hUbjq/h2UpJBLMRhM1RpOsvS09gUwyfGBrvCOsO5ZyV/KPrC/oaeRGeoZXQ08kJ72tS66TgDcY6J7pVNUtb12erv01aX5j0NhBvi2BpjJC3TZul56mzhMbeTwohHSnHK4DLfEFvLjxu3oyXkBDiXheE0rnD4XnVkQAoJlle//f69laQ7e8MtmV65gmvyc+/lxqJQ8APsensWB78PrgNiFzOiDOPavLxXIT2ES2V203oCKQ5/oCYsdwummPl4S2Og9V/YmeKHvjn8Cc6JDijtaWIbZTXvf8gYwcRxfeoOPP5BgOBKpmtYOnY2gnXvsbPeH22lvEJM9/fj4tNdsqi/8Pi/+qTbPqiv9f6a18porCiq6QRtLD5PrGKQaOEIWNwlcr2uHxnwMSsYPNBKaPac7hWPmpG7oNHuWykR3AkOd/jBNibg5uBXdggd9o16RWwsGslkSQWZgryagFQOf96z+bsrEqLgj4UqmgHeUNaeFH8kkwMX3tE+CpVigdI9rN0Y3GD7f5mSpO9jrmJee5YFGXFgrrThXsPqI5I0jaKRQzjW2njIB7UyP2Vf8QVS0BJu5AANXTnFASTdRTB6VEVhQ=='\n",
            "b'mxmuWQAXZCqTopQeKqfvDkqRXnrXslafYkyGFvjhf0h6QEbyxG32o3PvJosuG3TXWf+ZSqPIv0h6U29aa/zcXGhveydrNJ7RZTJHpNERSvDeQ4RHhPA8laV5nQTKqcdAoWZwwZqrctmbjGTtiyaZu6lD1qPu/z1T1A0Nj31PyuzhR4i4nCWGIDSg6E4clIZR'\n",
            "b'fguTZAKtQcFzLO4nzIwVZcB5BWeTgHpquPF9i+WDhTvIVv+IlI9INJccBr3ysAJ21tDIsMO9fLLVhk5xKox8Mcdav5oNiHN25536pliJLdtnBe9Bwa4IbxMCuJgOc+UiLbHwMrJASD4XhYx+WF4w1RLGC6slDVI4OT02OWPI0oUBkBTKjYvP95xv6bewQdPAO+jAvKeJkJTU0C1Rdkfp8yxpouw3zhMAAmgHvadyO/SHEn21JuFtpdUvZtW0cA8ArEPUrBHniY5cNWfGvyFe/I+G2LF6GOa/eI3p/0sYOUrjKAKUdOm9w5879NaAgErbamJUaLFoJUDbO7/YB5FaKcrNy77G5daj4cedctlAemBxgkuYPNPxD1MGmZomPXdQI/fJmN+/0PYv1RxV6Z6prkcozAkCDxoURr4aPRJTk72TpIudvBWWWWYO22uNzwRcB8hkTx0NvFVyZnrxsH5L/Q=='\n",
            "  There was nothing so VERY remarkable in that; nor did Alice\n",
            "think it so VERY much out of the way to hear the Rabbit say to\n",
            "itself, `Oh dear!  Oh dear!  I shall be late!'  (when she thought\n",
            "it over afterwards, it occurred to her that she ought to have\n",
            "wondered at this, but at the time it all seemed quite natural);\n",
            "but when the Rabbit actually TOOK A WATCH OUT OF ITS WAISTCOAT-\n",
            "POCKET, and looked at it, and then hurried on, Alice started to\n",
            "her feet, for it flashed across her mind that she had never\n",
            "before seen a rabbit with either a waistcoat-pocket, or a watch to\n",
            "take out of it, and burning with curiosity, she ran across the\n",
            "field after it, and fortunately was just in time to see it pop\n",
            "down a large rabbit-hole under the hedge.\n",
            "  Suddenly she came upon a little three-legged table, all made of\n",
            "solid glass; there was nothing on it except a tiny golden key,\n",
            "and Alice's first thought was that it might belong to one of the\n",
            "doors of the hall; but, alas! either the locks were too large, or\n",
            "the key was too small, but at any rate it would not open any of\n",
            "them.  However, on the second time round, she came upon a low\n",
            "curtain she had not noticed before, and behind it was a little\n",
            "door about fifteen inches high:  she tried the little golden key\n",
            "in the lock, and to her great delight it fitted!\n",
            "  After a while, finding that nothing more happened, she decided\n",
            "on going into the garden at once; but, alas for poor Alice!\n",
            "when she got to the door, she found she had forgotten the\n",
            "little golden key, and when she went back to the table for it,\n",
            "she found she could not possibly reach it:  she could see it\n",
            "quite plainly through the glass, and she tried her best to climb\n",
            "up one of the legs of the table, but it was too slippery;\n",
            "and when she had tired herself out with trying,\n",
            "the poor little thing sat down and cried.\n",
            "                        The Pool of Tears\n",
            "  `I'm sure I'm not Ada,' she said, `for her hair goes in such\n",
            "long ringlets, and mine doesn't go in ringlets at all; and I'm\n",
            "sure I can't be Mabel, for I know all sorts of things, and she,\n",
            "oh! she knows such a very little!  Besides, SHE'S she, and I'm I,\n",
            "and--oh dear, how puzzling it all is!  I'll try if I know all the\n",
            "things I used to know.  Let me see:  four times five is twelve,\n",
            "and four times six is thirteen, and four times seven is--oh dear!\n",
            "I shall never get to twenty at that rate!  However, the\n",
            "Multiplication Table doesn't signify:  let's try Geography.\n",
            "London is the capital of Paris, and Paris is the capital of Rome,\n",
            "and Rome--no, THAT'S all wrong, I'm certain!  I must have been\n",
            "changed for Mabel!  I'll try and say \"How doth the little--\"'\n",
            "and she crossed her hands on her lap as if she were saying lessons,\n",
            "and began to repeat it, but her voice sounded hoarse and\n",
            "strange, and the words did not come the same as they used to do:--\n",
            "  `Perhaps it doesn't understand English,' thought Alice; `I\n",
            "daresay it's a French mouse, come over with William the\n",
            "Conqueror.'  (For, with all her knowledge of history, Alice had\n",
            "no very clear notion how long ago anything had happened.)  So she\n",
            "began again:  `Ou est ma chatte?' which was the first sentence in\n",
            "her French lesson-book.  The Mouse gave a sudden leap out of the\n",
            "water, and seemed to quiver all over with fright.  `Oh, I beg\n",
            "your pardon!' cried Alice hastily, afraid that she had hurt the\n",
            "poor animal's feelings.  `I quite forgot you didn't like cats.'\n",
            "\n",
            "  They were indeed a queer-looking party that assembled on the\n",
            "bank--the birds with draggled feathers, the animals with their\n",
            "fur clinging close to them, and all dripping wet, cross, and\n",
            "uncomfortable.\n",
            "  `I know what \"it\" means well enough, when I find a thing,' said\n",
            "the Duck:  `it's generally a frog or a worm.  The question is,\n",
            "what did the archbishop find?'\n",
            "  `But who is to give the prizes?' quite a chorus of voices\n",
            "asked.\n",
            "  `You promised to tell me your history, you know,' said Alice,\n",
            "`and why it is you hate--C and D,' she added in a whisper, half\n",
            "afraid that it would be offended again.\n",
            "  The Mouse only growled in reply.\n",
            "                The Rabbit Sends in a Little Bill\n",
            "  `But then,' thought Alice, `shall I NEVER get any older than I\n",
            "am now?  That'll be a comfort, one way--never to be an old woman--\n",
            "but then--always to have lessons to learn!  Oh, I shouldn't like THAT!'\n",
            "  `An arm, you goose!   Who ever saw one that size?  Why, it\n",
            "fills the whole window!'\n",
            "  `We must burn the house down!' said the Rabbit's voice; and\n",
            "Alice called out as loud as she could, `If you do.  I'll set\n",
            "Dinah at you!'\n",
            "  `And yet what a dear little puppy it was!' said Alice, as she\n",
            "leant against a buttercup to rest herself, and fanned herself\n",
            "with one of the leaves:  `I should have liked teaching it tricks\n",
            "very much, if--if I'd only been the right size to do it!  Oh\n",
            "dear!  I'd nearly forgotten that I've got to grow up again!  Let\n",
            "me see--how IS it to be managed?  I suppose I ought to eat or\n",
            "drink something or other; but the great question is, what?'\n",
            "  `I can't explain MYSELF, I'm afraid, sir' said Alice, `because\n",
            "I'm not myself, you see.'\n",
            "  Here was another puzzling question; and as Alice could not\n",
            "think of any good reason, and as the Caterpillar seemed to be in\n",
            "a VERY unpleasant state of mind, she turned away.\n",
            "  `Repeat, \"YOU ARE OLD, FATHER WILLIAM,\"' said the Caterpillar.\n",
            "\n",
            "  `That is not said right,' said the Caterpillar.\n",
            "  `It is a very good height indeed!' said the Caterpillar\n",
            "angrily, rearing itself upright as it spoke (it was exactly three\n",
            "inches high).\n",
            "         *       *       *       *       *       *\n",
            "  Alice was more and more puzzled, but she thought there was no\n",
            "use in saying anything more till the Pigeon had finished.\n",
            "  This was such a new idea to Alice, that she was quite silent\n",
            "for a minute or two, which gave the Pigeon the opportunity of\n",
            "adding, `You're looking for eggs, I know THAT well enough; and\n",
            "what does it matter to me whether you're a little girl or a\n",
            "serpent?'\n",
            "  Alice laughed so much at this, that she had to run back into\n",
            "the wood for fear of their hearing her; and when she next peeped\n",
            "out the Fish-Footman was gone, and the other was sitting on the\n",
            "ground near the door, staring stupidly up into the sky.\n",
            "  It was, no doubt:  only Alice did not like to be told so.\n",
            "`It's really dreadful,' she muttered to herself, `the way all the\n",
            "creatures argue.  It's enough to drive one crazy!'\n",
            "  She said the last word with such sudden violence that Alice\n",
            "quite jumped; but she saw in another moment that it was addressed\n",
            "to the baby, and not to her, so she took courage, and went on\n",
            "again:--\n",
            "  Alice glanced rather anxiously at the cook, to see if she meant\n",
            "to take the hint; but the cook was busily stirring the soup, and\n",
            "seemed not to be listening, so she went on again:  `Twenty-four\n",
            "hours, I THINK; or is it twelve?  I--'\n",
            "  `Here! you may nurse it a bit, if you like!' the Duchess said\n",
            "to Alice, flinging the baby at her as she spoke.  `I must go and\n",
            "get ready to play croquet with the Queen,' and she hurried out of\n",
            "the room.  The cook threw a frying-pan after her as she went out,\n",
            "but it just missed her.\n",
            "  `I don't much care where--' said Alice.\n",
            "  Alice didn't think that proved it at all; however, she went on\n",
            "`And how do you know that you're mad?'\n",
            "  `It turned into a pig,' Alice quietly said, just as if it had\n",
            "come back in a natural way.\n",
            "                         A Mad Tea-Party\n",
            "  `You should learn not to make personal remarks,' Alice said\n",
            "with some severity; `it's very rude.'\n",
            "  `It IS the same thing with you,' said the Hatter, and here the\n",
            "conversation dropped, and the party sat silent for a minute,\n",
            "while Alice thought over all she could remember about ravens and\n",
            "writing-desks, which wasn't much.\n",
            "  `Which is just the case with MINE,' said the Hatter.\n",
            "  `I don't know what you mean,' said Alice.\n",
            "You know the song, perhaps?'\n",
            "  `Then you keep moving round, I suppose?' said Alice.\n",
            "  `Once upon a time there were three little sisters,' the\n",
            "Dormouse began in a great hurry; `and their names were Elsie,\n",
            "Lacie, and Tillie; and they lived at the bottom of a well--'\n",
            "  `Who's making personal remarks now?' the Hatter asked\n",
            "triumphantly.\n",
            "  Alice did not wish to offend the Dormouse again, so she began\n",
            "very cautiously:  `But I don't understand.  Where did they draw\n",
            "the treacle from?'\n",
            "  `Really, now you ask me,' said Alice, very much confused, `I\n",
            "don't think--'\n",
            "  `I couldn't help it,' said Five, in a sulky tone; `Seven jogged\n",
            "my elbow.'\n",
            "  Alice was rather doubtful whether she ought not to lie down on\n",
            "her face like the three gardeners, but she could not remember\n",
            "ever having heard of such a rule at processions; `and besides,\n",
            "what would be the use of a procession,' thought she, `if people\n",
            "had all to lie down upon their faces, so that they couldn't see it?'\n",
            "So she stood still where she was, and waited.\n",
            "  The Knave did so, very carefully, with one foot.\n",
            "  `Yes!' shouted Alice.\n",
            "  The chief difficulty Alice found at first was in managing her\n",
            "flamingo:  she succeeded in getting its body tucked away,\n",
            "comfortably enough, under her arm, with its legs hanging down,\n",
            "but generally, just as she had got its neck nicely straightened\n",
            "out, and was going to give the hedgehog a blow with its head, it\n",
            "WOULD twist itself round and look up in her face, with such a\n",
            "puzzled expression that she could not help bursting out laughing:\n",
            "and when she had got its head down, and was going to begin again,\n",
            "it was very provoking to find that the hedgehog had unrolled\n",
            "itself, and was in the act of crawling away:  besides all this,\n",
            "there was generally a ridge or furrow in the way wherever she\n",
            "wanted to send the hedgehog to, and, as the doubled-up soldiers\n",
            "were always getting up and walking off to other parts of the\n",
            "ground, Alice soon came to the conclusion that it was a very\n",
            "difficult game indeed.\n",
            "  `Who ARE you talking to?' said the King, going up to Alice, and\n",
            "looking at the Cat's head with great curiosity.\n",
            "  The hedgehog was engaged in a fight with another hedgehog,\n",
            "which seemed to Alice an excellent opportunity for croqueting one\n",
            "of them with the other:  the only difficulty was, that her\n",
            "flamingo was gone across to the other side of the garden, where\n",
            "Alice could see it trying in a helpless sort of way to fly up\n",
            "into a tree.\n",
            "{\"  There was nothing so VERY remarkable in that; nor did Alice\\nthink it so VERY much out of the way to hear the Rabbit say to\\nitself, `Oh dear!  Oh dear!  I shall be late!'  (when she thought\\nit over afterwards, it occurred to her that she ought to have\\nwondered at this, but at the time it all seemed quite natural);\\nbut when the Rabbit actually TOOK A WATCH OUT OF ITS WAISTCOAT-\\nPOCKET, and looked at it, and then hurried on, Alice started to\\nher feet, for it flashed across her mind that she had never\\nbefore seen a rabbit with either a waistcoat-pocket, or a watch to\\ntake out of it, and burning with curiosity, she ran across the\\nfield after it, and fortunately was just in time to see it pop\\ndown a large rabbit-hole under the hedge.\": 7.2530670166015625, \"  Suddenly she came upon a little three-legged table, all made of\\nsolid glass; there was nothing on it except a tiny golden key,\\nand Alice's first thought was that it might belong to one of the\\ndoors of the hall; but, alas! either the locks were too large, or\\nthe key was too small, but at any rate it would not open any of\\nthem.  However, on the second time round, she came upon a low\\ncurtain she had not noticed before, and behind it was a little\\ndoor about fifteen inches high:  she tried the little golden key\\nin the lock, and to her great delight it fitted!\": 7.303146839141846, '  After a while, finding that nothing more happened, she decided\\non going into the garden at once; but, alas for poor Alice!\\nwhen she got to the door, she found she had forgotten the\\nlittle golden key, and when she went back to the table for it,\\nshe found she could not possibly reach it:  she could see it\\nquite plainly through the glass, and she tried her best to climb\\nup one of the legs of the table, but it was too slippery;\\nand when she had tired herself out with trying,\\nthe poor little thing sat down and cried.': 7.352123498916626, '                        The Pool of Tears': 7.401273965835571, '  `I\\'m sure I\\'m not Ada,\\' she said, `for her hair goes in such\\nlong ringlets, and mine doesn\\'t go in ringlets at all; and I\\'m\\nsure I can\\'t be Mabel, for I know all sorts of things, and she,\\noh! she knows such a very little!  Besides, SHE\\'S she, and I\\'m I,\\nand--oh dear, how puzzling it all is!  I\\'ll try if I know all the\\nthings I used to know.  Let me see:  four times five is twelve,\\nand four times six is thirteen, and four times seven is--oh dear!\\nI shall never get to twenty at that rate!  However, the\\nMultiplication Table doesn\\'t signify:  let\\'s try Geography.\\nLondon is the capital of Paris, and Paris is the capital of Rome,\\nand Rome--no, THAT\\'S all wrong, I\\'m certain!  I must have been\\nchanged for Mabel!  I\\'ll try and say \"How doth the little--\"\\'\\nand she crossed her hands on her lap as if she were saying lessons,\\nand began to repeat it, but her voice sounded hoarse and\\nstrange, and the words did not come the same as they used to do:--': 7.450366497039795, \"  `Perhaps it doesn't understand English,' thought Alice; `I\\ndaresay it's a French mouse, come over with William the\\nConqueror.'  (For, with all her knowledge of history, Alice had\\nno very clear notion how long ago anything had happened.)  So she\\nbegan again:  `Ou est ma chatte?' which was the first sentence in\\nher French lesson-book.  The Mouse gave a sudden leap out of the\\nwater, and seemed to quiver all over with fright.  `Oh, I beg\\nyour pardon!' cried Alice hastily, afraid that she had hurt the\\npoor animal's feelings.  `I quite forgot you didn't like cats.'\": 7.504568815231323, '\\n  They were indeed a queer-looking party that assembled on the\\nbank--the birds with draggled feathers, the animals with their\\nfur clinging close to them, and all dripping wet, cross, and\\nuncomfortable.': 7.5534327030181885, '  `I know what \"it\" means well enough, when I find a thing,\\' said\\nthe Duck:  `it\\'s generally a frog or a worm.  The question is,\\nwhat did the archbishop find?\\'': 7.60304856300354, \"  `But who is to give the prizes?' quite a chorus of voices\\nasked.\": 7.65263557434082, \"  `You promised to tell me your history, you know,' said Alice,\\n`and why it is you hate--C and D,' she added in a whisper, half\\nafraid that it would be offended again.\": 7.702057361602783, '  The Mouse only growled in reply.': 7.7709801197052, '                The Rabbit Sends in a Little Bill': 7.821486711502075, \"  `But then,' thought Alice, `shall I NEVER get any older than I\\nam now?  That'll be a comfort, one way--never to be an old woman--\\nbut then--always to have lessons to learn!  Oh, I shouldn't like THAT!'\": 7.870310544967651, \"  `An arm, you goose!   Who ever saw one that size?  Why, it\\nfills the whole window!'\": 7.91956090927124, \"  `We must burn the house down!' said the Rabbit's voice; and\\nAlice called out as loud as she could, `If you do.  I'll set\\nDinah at you!'\": 7.969778299331665, \"  `And yet what a dear little puppy it was!' said Alice, as she\\nleant against a buttercup to rest herself, and fanned herself\\nwith one of the leaves:  `I should have liked teaching it tricks\\nvery much, if--if I'd only been the right size to do it!  Oh\\ndear!  I'd nearly forgotten that I've got to grow up again!  Let\\nme see--how IS it to be managed?  I suppose I ought to eat or\\ndrink something or other; but the great question is, what?'\": 8.026091814041138, \"  `I can't explain MYSELF, I'm afraid, sir' said Alice, `because\\nI'm not myself, you see.'\": 8.078488111495972, '  Here was another puzzling question; and as Alice could not\\nthink of any good reason, and as the Caterpillar seemed to be in\\na VERY unpleasant state of mind, she turned away.': 8.128695249557495, '  `Repeat, \"YOU ARE OLD, FATHER WILLIAM,\"\\' said the Caterpillar.': 8.177269697189331, \"\\n  `That is not said right,' said the Caterpillar.\": 8.225790739059448, \"  `It is a very good height indeed!' said the Caterpillar\\nangrily, rearing itself upright as it spoke (it was exactly three\\ninches high).\": 8.277165412902832, '         *       *       *       *       *       *': 8.325446844100952, '  Alice was more and more puzzled, but she thought there was no\\nuse in saying anything more till the Pigeon had finished.': 8.373494386672974, \"  This was such a new idea to Alice, that she was quite silent\\nfor a minute or two, which gave the Pigeon the opportunity of\\nadding, `You're looking for eggs, I know THAT well enough; and\\nwhat does it matter to me whether you're a little girl or a\\nserpent?'\": 8.42212700843811, '  Alice laughed so much at this, that she had to run back into\\nthe wood for fear of their hearing her; and when she next peeped\\nout the Fish-Footman was gone, and the other was sitting on the\\nground near the door, staring stupidly up into the sky.': 8.471826314926147, \"  It was, no doubt:  only Alice did not like to be told so.\\n`It's really dreadful,' she muttered to herself, `the way all the\\ncreatures argue.  It's enough to drive one crazy!'\": 8.523680210113525, '  She said the last word with such sudden violence that Alice\\nquite jumped; but she saw in another moment that it was addressed\\nto the baby, and not to her, so she took courage, and went on\\nagain:--': 8.572381019592285, \"  Alice glanced rather anxiously at the cook, to see if she meant\\nto take the hint; but the cook was busily stirring the soup, and\\nseemed not to be listening, so she went on again:  `Twenty-four\\nhours, I THINK; or is it twelve?  I--'\": 8.621130228042603, \"  `Here! you may nurse it a bit, if you like!' the Duchess said\\nto Alice, flinging the baby at her as she spoke.  `I must go and\\nget ready to play croquet with the Queen,' and she hurried out of\\nthe room.  The cook threw a frying-pan after her as she went out,\\nbut it just missed her.\": 8.669753551483154, \"  `I don't much care where--' said Alice.\": 8.718127012252808, \"  Alice didn't think that proved it at all; however, she went on\\n`And how do you know that you're mad?'\": 8.769222497940063, \"  `It turned into a pig,' Alice quietly said, just as if it had\\ncome back in a natural way.\": 8.817899465560913, '                         A Mad Tea-Party': 8.866057395935059, \"  `You should learn not to make personal remarks,' Alice said\\nwith some severity; `it's very rude.'\": 8.915632247924805, \"  `It IS the same thing with you,' said the Hatter, and here the\\nconversation dropped, and the party sat silent for a minute,\\nwhile Alice thought over all she could remember about ravens and\\nwriting-desks, which wasn't much.\": 8.965898275375366, \"  `Which is just the case with MINE,' said the Hatter.\": 9.017558574676514, \"  `I don't know what you mean,' said Alice.\": 9.066130638122559, \"You know the song, perhaps?'\": 9.114967346191406, \"  `Then you keep moving round, I suppose?' said Alice.\": 9.163477659225464, \"  `Once upon a time there were three little sisters,' the\\nDormouse began in a great hurry; `and their names were Elsie,\\nLacie, and Tillie; and they lived at the bottom of a well--'\": 9.212122917175293, \"  `Who's making personal remarks now?' the Hatter asked\\ntriumphantly.\": 9.263479232788086, \"  Alice did not wish to offend the Dormouse again, so she began\\nvery cautiously:  `But I don't understand.  Where did they draw\\nthe treacle from?'\": 9.312121868133545, \"  `Really, now you ask me,' said Alice, very much confused, `I\\ndon't think--'\": 9.360465049743652, \"  `I couldn't help it,' said Five, in a sulky tone; `Seven jogged\\nmy elbow.'\": 9.409172773361206, \"  Alice was rather doubtful whether she ought not to lie down on\\nher face like the three gardeners, but she could not remember\\never having heard of such a rule at processions; `and besides,\\nwhat would be the use of a procession,' thought she, `if people\\nhad all to lie down upon their faces, so that they couldn't see it?'\\nSo she stood still where she was, and waited.\": 9.457289457321167, '  The Knave did so, very carefully, with one foot.': 9.508804321289062, \"  `Yes!' shouted Alice.\": 9.558060884475708, '  The chief difficulty Alice found at first was in managing her\\nflamingo:  she succeeded in getting its body tucked away,\\ncomfortably enough, under her arm, with its legs hanging down,\\nbut generally, just as she had got its neck nicely straightened\\nout, and was going to give the hedgehog a blow with its head, it\\nWOULD twist itself round and look up in her face, with such a\\npuzzled expression that she could not help bursting out laughing:\\nand when she had got its head down, and was going to begin again,\\nit was very provoking to find that the hedgehog had unrolled\\nitself, and was in the act of crawling away:  besides all this,\\nthere was generally a ridge or furrow in the way wherever she\\nwanted to send the hedgehog to, and, as the doubled-up soldiers\\nwere always getting up and walking off to other parts of the\\nground, Alice soon came to the conclusion that it was a very\\ndifficult game indeed.': 9.609927892684937, \"  `Who ARE you talking to?' said the King, going up to Alice, and\\nlooking at the Cat's head with great curiosity.\": 9.658609390258789, '  The hedgehog was engaged in a fight with another hedgehog,\\nwhich seemed to Alice an excellent opportunity for croqueting one\\nof them with the other:  the only difficulty was, that her\\nflamingo was gone across to the other side of the garden, where\\nAlice could see it trying in a helpless sort of way to fly up\\ninto a tree.': 9.707109928131104}\n"
          ],
          "name": "stdout"
        }
      ]
    },
    {
      "cell_type": "code",
      "metadata": {
        "id": "-ZiiMWW_5xmQ",
        "colab_type": "code",
        "colab": {
          "base_uri": "https://localhost:8080/",
          "height": 71
        },
        "outputId": "4788e7f4-cb33-4fb8-9f3e-c1f455b7d08a"
      },
      "source": [
        "import random\n",
        "import string\n",
        "\n",
        "def randomStringDigits(stringLength=6):\n",
        "    \"\"\"Generate a random string of letters and digits \"\"\"\n",
        "    lettersAndDigits = string.ascii_letters + string.digits\n",
        "    return ''.join(random.choice(lettersAndDigits) for i in range(stringLength))\n",
        "\n",
        "print (\"Generating a Random String including letters and digits\")\n",
        "print (\"First Random String is  \", randomStringDigits(256))"
      ],
      "execution_count": 19,
      "outputs": [
        {
          "output_type": "stream",
          "text": [
            "Generating a Random String including letters and digits\n",
            "First Random String is   OAVrXFlR8XhazKRBQltoLatsaBhymgK80mZT4Da7Rl5a0T3KyuuY8g3imfxUS1ATBDbohjuoCGbVJmUdovJ5Mr2l1iB2yFucagTw839fTZ0xg3o9LQToJ2kunrmmFQVY9HpUMlVAC9wYjROnixu6CcK9yI8UX1BgNfMPIwAvNarZWqjS2EkCIE5ljSXihaANV0VXqh9HnnY7C4xUwePrEwLya67CoUqWNnG4JVqz5HfynOJieJMiHgUlwYALTUZO\n"
          ],
          "name": "stdout"
        }
      ]
    }
  ]
}